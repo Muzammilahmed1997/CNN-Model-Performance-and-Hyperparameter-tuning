{
  "cells": [
    {
      "cell_type": "markdown",
      "metadata": {},
      "source": [
        "## Importing Libraries"
      ]
    },
    {
      "cell_type": "code",
      "execution_count": 1,
      "metadata": {
        "id": "kgD05QX3N-Ox"
      },
      "outputs": [],
      "source": [
        "import numpy as np\n",
        "import pandas as pd\n",
        "import matplotlib.pyplot as plt\n",
        "from matplotlib.image import imread\n",
        "import cv2\n",
        "import random\n",
        "from os import listdir\n",
        "from sklearn.preprocessing import  LabelBinarizer\n",
        "from keras.preprocessing import image\n",
        "from keras_preprocessing.image import img_to_array, array_to_img\n",
        "from keras.optimizers import Adam\n",
        "from PIL import Image\n",
        "from keras.utils import to_categorical\n",
        "from keras.models import Sequential\n",
        "from keras.callbacks import EarlyStopping\n",
        "from keras.layers import BatchNormalization\n",
        "from keras.layers import Conv2D, MaxPooling2D, AveragePooling2D,Activation, Flatten, Dropout, Dense, LeakyReLU, ReLU\n",
        "from sklearn.model_selection import train_test_split"
      ]
    },
    {
      "cell_type": "markdown",
      "metadata": {},
      "source": [
        "## Loading Dataset"
      ]
    },
    {
      "cell_type": "code",
      "execution_count": 2,
      "metadata": {
        "id": "cLoajsN-RmQF"
      },
      "outputs": [],
      "source": [
        "# Setting path and creating empty list\n",
        "dir = \"Bird Speciees Dataset\"\n",
        "root_dir = listdir(dir)\n",
        "image_list, label_list = [], []"
      ]
    },
    {
      "cell_type": "code",
      "execution_count": 3,
      "metadata": {
        "id": "VX89xh5BRmlG"
      },
      "outputs": [],
      "source": [
        "for directory in root_dir:\n",
        "  for files in listdir(f\"{dir}/{directory}\"):\n",
        "    image_path = f\"{dir}/{directory}/{files}\"\n",
        "    image = cv2.imread(image_path)\n",
        "    image = img_to_array(image)\n",
        "    image_list.append(image)\n",
        "    label_list.append(directory)"
      ]
    },
    {
      "cell_type": "code",
      "execution_count": 4,
      "metadata": {
        "id": "T0Pgx3XMRoaP"
      },
      "outputs": [
        {
          "data": {
            "text/plain": [
              "AMERICAN GOLDFINCH    143\n",
              "EMPEROR PENGUIN       139\n",
              "DOWNY WOODPECKER      137\n",
              "FLAMINGO              132\n",
              "CARMINE BEE-EATER     131\n",
              "BARN OWL              129\n",
              "dtype: int64"
            ]
          },
          "execution_count": 4,
          "metadata": {},
          "output_type": "execute_result"
        }
      ],
      "source": [
        "# Visualize the number of classes count\n",
        "label_counts = pd.DataFrame(label_list).value_counts()\n",
        "label_counts"
      ]
    },
    {
      "cell_type": "code",
      "execution_count": 5,
      "metadata": {
        "id": "zJp5JRT0Rp7e"
      },
      "outputs": [
        {
          "data": {
            "text/plain": [
              "6"
            ]
          },
          "execution_count": 5,
          "metadata": {},
          "output_type": "execute_result"
        }
      ],
      "source": [
        "# Storing number of classes\n",
        "num_classes = len(label_counts)\n",
        "num_classes"
      ]
    },
    {
      "cell_type": "code",
      "execution_count": 6,
      "metadata": {
        "id": "g_aIkXkyRt2d"
      },
      "outputs": [
        {
          "data": {
            "text/plain": [
              "(224, 224, 3)"
            ]
          },
          "execution_count": 6,
          "metadata": {},
          "output_type": "execute_result"
        }
      ],
      "source": [
        "# Checking input image shape\n",
        "image_list[0].shape"
      ]
    },
    {
      "cell_type": "code",
      "execution_count": 7,
      "metadata": {
        "id": "RhTfmSvoRt5l"
      },
      "outputs": [
        {
          "data": {
            "text/plain": [
              "(811,)"
            ]
          },
          "execution_count": 7,
          "metadata": {},
          "output_type": "execute_result"
        }
      ],
      "source": [
        "# Checking labels shape \n",
        "label_list = np.array(label_list)\n",
        "label_list.shape"
      ]
    },
    {
      "cell_type": "code",
      "execution_count": 8,
      "metadata": {
        "id": "P5GWA6z5Rxtm"
      },
      "outputs": [],
      "source": [
        "# Splitting dataset\n",
        "x_train, x_test, y_train, y_test = train_test_split(image_list, label_list, test_size=0.2, random_state = 10) "
      ]
    },
    {
      "cell_type": "code",
      "execution_count": 9,
      "metadata": {
        "id": "iZ8NTYmfRzOS"
      },
      "outputs": [],
      "source": [
        "# Normalize and reshape data\n",
        "x_train = np.array(x_train, dtype=np.float16) / 225.0\n",
        "x_test = np.array(x_test, dtype=np.float16) / 225.0\n",
        "x_train = x_train.reshape( -1, 224,224,3)\n",
        "x_test = x_test.reshape( -1, 224,224,3)"
      ]
    },
    {
      "cell_type": "code",
      "execution_count": 10,
      "metadata": {},
      "outputs": [
        {
          "name": "stdout",
          "output_type": "stream",
          "text": [
            "['AMERICAN GOLDFINCH' 'BARN OWL' 'CARMINE BEE-EATER' 'DOWNY WOODPECKER'\n",
            " 'EMPEROR PENGUIN' 'FLAMINGO']\n"
          ]
        }
      ],
      "source": [
        "# Label binarizing\n",
        "lb = LabelBinarizer()\n",
        "y_train = lb.fit_transform(y_train)\n",
        "y_test = lb.fit_transform(y_test)\n",
        "print(lb.classes_)"
      ]
    },
    {
      "cell_type": "code",
      "execution_count": 11,
      "metadata": {},
      "outputs": [],
      "source": [
        "# Splitting the training data set into training and validation data sets\n",
        "x_train, x_val, y_train, y_val = train_test_split(x_train, y_train, test_size = 0.2)"
      ]
    },
    {
      "cell_type": "markdown",
      "metadata": {},
      "source": [
        "## Applying CNN Model"
      ]
    },
    {
      "cell_type": "code",
      "execution_count": 12,
      "metadata": {},
      "outputs": [
        {
          "name": "stdout",
          "output_type": "stream",
          "text": [
            "Model: \"sequential\"\n",
            "_________________________________________________________________\n",
            " Layer (type)                Output Shape              Param #   \n",
            "=================================================================\n",
            " conv2d (Conv2D)             (None, 224, 224, 16)      208       \n",
            "                                                                 \n",
            " activation (Activation)     (None, 224, 224, 16)      0         \n",
            "                                                                 \n",
            " max_pooling2d (MaxPooling2D  (None, 112, 112, 16)     0         \n",
            " )                                                               \n",
            "                                                                 \n",
            " conv2d_1 (Conv2D)           (None, 112, 112, 32)      2080      \n",
            "                                                                 \n",
            " max_pooling2d_1 (MaxPooling  (None, 56, 56, 32)       0         \n",
            " 2D)                                                             \n",
            "                                                                 \n",
            " flatten (Flatten)           (None, 100352)            0         \n",
            "                                                                 \n",
            " dense (Dense)               (None, 128)               12845184  \n",
            "                                                                 \n",
            " activation_1 (Activation)   (None, 128)               0         \n",
            "                                                                 \n",
            " dense_1 (Dense)             (None, 6)                 774       \n",
            "                                                                 \n",
            "=================================================================\n",
            "Total params: 12,848,246\n",
            "Trainable params: 12,848,246\n",
            "Non-trainable params: 0\n",
            "_________________________________________________________________\n"
          ]
        }
      ],
      "source": [
        "## Creating a simple CNN architecture with three convolutional layer, each followed by a max pooling layer\n",
        "\n",
        "model = Sequential()\n",
        "\n",
        "model.add(Conv2D(filters=16, kernel_size=2, input_shape=(224,224,3), padding='same'))\n",
        "model.add(Activation('relu'))\n",
        "model.add(MaxPooling2D(pool_size=2))\n",
        "\n",
        "model.add(Conv2D(filters=32, kernel_size=2, activation='relu', padding='same'))\n",
        "model.add(MaxPooling2D(pool_size=2))\n",
        "\n",
        "\n",
        "model.add(Flatten())\n",
        "model.add(Dense(128))\n",
        "model.add(Activation('relu'))\n",
        "model.add(Dense(6,activation='softmax'))\n",
        "model.summary()"
      ]
    },
    {
      "cell_type": "code",
      "execution_count": 13,
      "metadata": {
        "id": "1GvVgEiXR4sy"
      },
      "outputs": [],
      "source": [
        "# Compiling model\n",
        "model.compile(loss = 'categorical_crossentropy', optimizer = 'rmsprop',metrics=['accuracy'])"
      ]
    },
    {
      "cell_type": "code",
      "execution_count": 14,
      "metadata": {
        "id": "u1I9HtY2R7R-"
      },
      "outputs": [
        {
          "name": "stdout",
          "output_type": "stream",
          "text": [
            "Epoch 1/12\n",
            "17/17 [==============================] - 7s 369ms/step - loss: 10.0265 - accuracy: 0.3475 - val_loss: 1.3104 - val_accuracy: 0.5000\n",
            "Epoch 2/12\n",
            "17/17 [==============================] - 7s 398ms/step - loss: 0.8564 - accuracy: 0.7220 - val_loss: 1.2898 - val_accuracy: 0.6385\n",
            "Epoch 3/12\n",
            "17/17 [==============================] - 6s 380ms/step - loss: 0.5375 - accuracy: 0.8069 - val_loss: 1.1526 - val_accuracy: 0.6154\n",
            "Epoch 4/12\n",
            "17/17 [==============================] - 8s 466ms/step - loss: 0.3937 - accuracy: 0.8861 - val_loss: 0.9013 - val_accuracy: 0.7692\n",
            "Epoch 5/12\n",
            "17/17 [==============================] - 7s 425ms/step - loss: 0.2355 - accuracy: 0.9266 - val_loss: 0.6153 - val_accuracy: 0.8000\n",
            "Epoch 6/12\n",
            "17/17 [==============================] - 8s 446ms/step - loss: 0.1809 - accuracy: 0.9459 - val_loss: 0.5802 - val_accuracy: 0.7769\n",
            "Epoch 7/12\n",
            "17/17 [==============================] - 7s 426ms/step - loss: 0.0579 - accuracy: 0.9923 - val_loss: 0.7878 - val_accuracy: 0.7308\n",
            "Epoch 8/12\n",
            "17/17 [==============================] - 7s 419ms/step - loss: 0.1538 - accuracy: 0.9633 - val_loss: 0.5269 - val_accuracy: 0.8462\n",
            "Epoch 9/12\n",
            "17/17 [==============================] - 7s 410ms/step - loss: 0.0113 - accuracy: 1.0000 - val_loss: 0.4838 - val_accuracy: 0.8615\n",
            "Epoch 10/12\n",
            "17/17 [==============================] - 7s 417ms/step - loss: 0.0108 - accuracy: 0.9981 - val_loss: 3.8171 - val_accuracy: 0.5538\n",
            "Epoch 11/12\n",
            "17/17 [==============================] - 7s 421ms/step - loss: 0.1323 - accuracy: 0.9710 - val_loss: 0.6182 - val_accuracy: 0.8231\n",
            "Epoch 12/12\n",
            "17/17 [==============================] - 7s 413ms/step - loss: 0.0030 - accuracy: 1.0000 - val_loss: 0.5895 - val_accuracy: 0.8385\n"
          ]
        }
      ],
      "source": [
        "# Training the model\n",
        "epochs = 12\n",
        "batch_size = 32\n",
        "\n",
        "# Early Stopping\n",
        "callback = EarlyStopping(monitor='val_loss', patience=3)\n",
        "\n",
        "history = model.fit(x_train, y_train, batch_size = batch_size, epochs = epochs, validation_data = (x_val, y_val), callbacks = [callback])"
      ]
    },
    {
      "cell_type": "code",
      "execution_count": 15,
      "metadata": {
        "id": "RRI9dX9eSI0j"
      },
      "outputs": [
        {
          "name": "stdout",
          "output_type": "stream",
          "text": [
            "6/6 [==============================] - 0s 72ms/step - loss: 0.2657 - accuracy: 0.9202\n",
            "Test Accuracy: 92.02454090118408 %\n"
          ]
        }
      ],
      "source": [
        "# Calculating test accuracy \n",
        "scores = model.evaluate(x_test, y_test)\n",
        "print(f\"Test Accuracy: {scores[1]*100} %\")"
      ]
    },
    {
      "cell_type": "markdown",
      "metadata": {},
      "source": [
        "## Implementing Different Activation Functions"
      ]
    },
    {
      "cell_type": "markdown",
      "metadata": {},
      "source": [
        "### ELU"
      ]
    },
    {
      "cell_type": "code",
      "execution_count": 16,
      "metadata": {
        "id": "I3gqSpVKSSx3"
      },
      "outputs": [
        {
          "name": "stdout",
          "output_type": "stream",
          "text": [
            "Model: \"sequential_1\"\n",
            "_________________________________________________________________\n",
            " Layer (type)                Output Shape              Param #   \n",
            "=================================================================\n",
            " conv2d_2 (Conv2D)           (None, 224, 224, 16)      208       \n",
            "                                                                 \n",
            " activation_2 (Activation)   (None, 224, 224, 16)      0         \n",
            "                                                                 \n",
            " max_pooling2d_2 (MaxPooling  (None, 112, 112, 16)     0         \n",
            " 2D)                                                             \n",
            "                                                                 \n",
            " conv2d_3 (Conv2D)           (None, 112, 112, 32)      2080      \n",
            "                                                                 \n",
            " max_pooling2d_3 (MaxPooling  (None, 56, 56, 32)       0         \n",
            " 2D)                                                             \n",
            "                                                                 \n",
            " flatten_1 (Flatten)         (None, 100352)            0         \n",
            "                                                                 \n",
            " dense_2 (Dense)             (None, 128)               12845184  \n",
            "                                                                 \n",
            " activation_3 (Activation)   (None, 128)               0         \n",
            "                                                                 \n",
            " dense_3 (Dense)             (None, 6)                 774       \n",
            "                                                                 \n",
            "=================================================================\n",
            "Total params: 12,848,246\n",
            "Trainable params: 12,848,246\n",
            "Non-trainable params: 0\n",
            "_________________________________________________________________\n"
          ]
        }
      ],
      "source": [
        "## Creating a simple CNN architecture with three convolutional layer, each followed by a max pooling layer\n",
        "\n",
        "model = Sequential()\n",
        "\n",
        "model.add(Conv2D(filters=16, kernel_size=2, input_shape=(224,224,3), padding='same'))\n",
        "model.add(Activation('elu'))\n",
        "model.add(MaxPooling2D(pool_size=2))\n",
        "\n",
        "model.add(Conv2D(filters=32, kernel_size=2, activation='elu', padding='same'))\n",
        "model.add(MaxPooling2D(pool_size=2))\n",
        "\n",
        "\n",
        "model.add(Flatten())\n",
        "model.add(Dense(128))\n",
        "model.add(Activation('elu'))\n",
        "model.add(Dense(6,activation='softmax'))\n",
        "model.summary()"
      ]
    },
    {
      "cell_type": "code",
      "execution_count": 17,
      "metadata": {},
      "outputs": [],
      "source": [
        "# Compiling model\n",
        "model.compile(loss = 'categorical_crossentropy', optimizer = 'rmsprop',metrics=['accuracy'])"
      ]
    },
    {
      "cell_type": "code",
      "execution_count": 18,
      "metadata": {},
      "outputs": [
        {
          "name": "stdout",
          "output_type": "stream",
          "text": [
            "Epoch 1/12\n",
            "17/17 [==============================] - 8s 456ms/step - loss: 11.5633 - accuracy: 0.3919 - val_loss: 1.1822 - val_accuracy: 0.6308\n",
            "Epoch 2/12\n",
            "17/17 [==============================] - 8s 441ms/step - loss: 1.0328 - accuracy: 0.6371 - val_loss: 1.5018 - val_accuracy: 0.6000\n",
            "Epoch 3/12\n",
            "17/17 [==============================] - 8s 471ms/step - loss: 0.8528 - accuracy: 0.7317 - val_loss: 2.4937 - val_accuracy: 0.4231\n",
            "Epoch 4/12\n",
            "17/17 [==============================] - 8s 480ms/step - loss: 0.5275 - accuracy: 0.8069 - val_loss: 1.2395 - val_accuracy: 0.7231\n"
          ]
        }
      ],
      "source": [
        "# Training the model\n",
        "epochs = 12\n",
        "batch_size = 32\n",
        "\n",
        "# Early Stopping\n",
        "callback = EarlyStopping(monitor='val_loss', patience=3)\n",
        "\n",
        "history = model.fit(x_train, y_train, batch_size = batch_size, epochs = epochs, validation_data = (x_val, y_val), callbacks = [callback])"
      ]
    },
    {
      "cell_type": "code",
      "execution_count": 19,
      "metadata": {},
      "outputs": [
        {
          "name": "stdout",
          "output_type": "stream",
          "text": [
            "6/6 [==============================] - 1s 83ms/step - loss: 1.3345 - accuracy: 0.7055\n",
            "Test Accuracy: 70.55214643478394 %\n"
          ]
        }
      ],
      "source": [
        "# Calculating test accuracy \n",
        "scores = model.evaluate(x_test, y_test)\n",
        "print(f\"Test Accuracy: {scores[1]*100} %\")"
      ]
    },
    {
      "cell_type": "markdown",
      "metadata": {},
      "source": [
        "### Selu"
      ]
    },
    {
      "cell_type": "code",
      "execution_count": 20,
      "metadata": {},
      "outputs": [
        {
          "name": "stdout",
          "output_type": "stream",
          "text": [
            "Model: \"sequential_2\"\n",
            "_________________________________________________________________\n",
            " Layer (type)                Output Shape              Param #   \n",
            "=================================================================\n",
            " conv2d_4 (Conv2D)           (None, 224, 224, 16)      208       \n",
            "                                                                 \n",
            " activation_4 (Activation)   (None, 224, 224, 16)      0         \n",
            "                                                                 \n",
            " max_pooling2d_4 (MaxPooling  (None, 112, 112, 16)     0         \n",
            " 2D)                                                             \n",
            "                                                                 \n",
            " conv2d_5 (Conv2D)           (None, 112, 112, 32)      2080      \n",
            "                                                                 \n",
            " max_pooling2d_5 (MaxPooling  (None, 56, 56, 32)       0         \n",
            " 2D)                                                             \n",
            "                                                                 \n",
            " flatten_2 (Flatten)         (None, 100352)            0         \n",
            "                                                                 \n",
            " dense_4 (Dense)             (None, 128)               12845184  \n",
            "                                                                 \n",
            " activation_5 (Activation)   (None, 128)               0         \n",
            "                                                                 \n",
            " dense_5 (Dense)             (None, 6)                 774       \n",
            "                                                                 \n",
            "=================================================================\n",
            "Total params: 12,848,246\n",
            "Trainable params: 12,848,246\n",
            "Non-trainable params: 0\n",
            "_________________________________________________________________\n"
          ]
        }
      ],
      "source": [
        "## Creating a simple CNN architecture with three convolutional layer, each followed by a max pooling layer\n",
        "\n",
        "model = Sequential()\n",
        "\n",
        "model.add(Conv2D(filters=16, kernel_size=2, input_shape=(224,224,3), padding='same'))\n",
        "model.add(Activation('selu'))\n",
        "model.add(MaxPooling2D(pool_size=2))\n",
        "\n",
        "model.add(Conv2D(filters=32, kernel_size=2, activation='selu', padding='same'))\n",
        "model.add(MaxPooling2D(pool_size=2))\n",
        "\n",
        "\n",
        "model.add(Flatten())\n",
        "model.add(Dense(128))\n",
        "model.add(Activation('selu'))\n",
        "model.add(Dense(6,activation='softmax'))\n",
        "model.summary()"
      ]
    },
    {
      "cell_type": "code",
      "execution_count": 21,
      "metadata": {},
      "outputs": [],
      "source": [
        "# Compiling model\n",
        "model.compile(loss = 'categorical_crossentropy', optimizer = 'rmsprop',metrics=['accuracy'])"
      ]
    },
    {
      "cell_type": "code",
      "execution_count": 22,
      "metadata": {},
      "outputs": [
        {
          "name": "stdout",
          "output_type": "stream",
          "text": [
            "Epoch 1/12\n",
            "17/17 [==============================] - 8s 460ms/step - loss: 17.7693 - accuracy: 0.3185 - val_loss: 1.8992 - val_accuracy: 0.4231\n",
            "Epoch 2/12\n",
            "17/17 [==============================] - 7s 441ms/step - loss: 1.6781 - accuracy: 0.4595 - val_loss: 1.3551 - val_accuracy: 0.5538\n",
            "Epoch 3/12\n",
            "17/17 [==============================] - 7s 434ms/step - loss: 1.6746 - accuracy: 0.5386 - val_loss: 12.9686 - val_accuracy: 0.2231\n",
            "Epoch 4/12\n",
            "17/17 [==============================] - 7s 436ms/step - loss: 2.2381 - accuracy: 0.6293 - val_loss: 1.5972 - val_accuracy: 0.6231\n",
            "Epoch 5/12\n",
            "17/17 [==============================] - 7s 437ms/step - loss: 0.5919 - accuracy: 0.7954 - val_loss: 2.2342 - val_accuracy: 0.6769\n"
          ]
        }
      ],
      "source": [
        "# Training the model\n",
        "epochs = 12\n",
        "batch_size = 32\n",
        "\n",
        "# Early Stopping\n",
        "callback = EarlyStopping(monitor='val_loss', patience=3)\n",
        "\n",
        "history = model.fit(x_train, y_train, batch_size = batch_size, epochs = epochs, validation_data = (x_val, y_val), callbacks = [callback])"
      ]
    },
    {
      "cell_type": "code",
      "execution_count": 23,
      "metadata": {},
      "outputs": [
        {
          "name": "stdout",
          "output_type": "stream",
          "text": [
            "6/6 [==============================] - 1s 80ms/step - loss: 1.8707 - accuracy: 0.6810\n",
            "Test Accuracy: 68.09815764427185 %\n"
          ]
        }
      ],
      "source": [
        "# Calculating test accuracy \n",
        "scores = model.evaluate(x_test, y_test)\n",
        "print(f\"Test Accuracy: {scores[1]*100} %\")"
      ]
    },
    {
      "cell_type": "markdown",
      "metadata": {},
      "source": [
        "### Using Different Type of Pooling"
      ]
    },
    {
      "cell_type": "markdown",
      "metadata": {},
      "source": [
        "### Average Pooling "
      ]
    },
    {
      "cell_type": "code",
      "execution_count": 24,
      "metadata": {},
      "outputs": [
        {
          "name": "stdout",
          "output_type": "stream",
          "text": [
            "Model: \"sequential_3\"\n",
            "_________________________________________________________________\n",
            " Layer (type)                Output Shape              Param #   \n",
            "=================================================================\n",
            " conv2d_6 (Conv2D)           (None, 224, 224, 16)      208       \n",
            "                                                                 \n",
            " activation_6 (Activation)   (None, 224, 224, 16)      0         \n",
            "                                                                 \n",
            " average_pooling2d (AverageP  (None, 112, 112, 16)     0         \n",
            " ooling2D)                                                       \n",
            "                                                                 \n",
            " conv2d_7 (Conv2D)           (None, 112, 112, 32)      2080      \n",
            "                                                                 \n",
            " average_pooling2d_1 (Averag  (None, 56, 56, 32)       0         \n",
            " ePooling2D)                                                     \n",
            "                                                                 \n",
            " flatten_3 (Flatten)         (None, 100352)            0         \n",
            "                                                                 \n",
            " dense_6 (Dense)             (None, 128)               12845184  \n",
            "                                                                 \n",
            " activation_7 (Activation)   (None, 128)               0         \n",
            "                                                                 \n",
            " dense_7 (Dense)             (None, 6)                 774       \n",
            "                                                                 \n",
            "=================================================================\n",
            "Total params: 12,848,246\n",
            "Trainable params: 12,848,246\n",
            "Non-trainable params: 0\n",
            "_________________________________________________________________\n"
          ]
        }
      ],
      "source": [
        "## Creating a simple CNN architecture with three convolutional layer, each followed by a average pooling layer\n",
        "\n",
        "model = Sequential()\n",
        "\n",
        "model.add(Conv2D(filters=16, kernel_size=2, input_shape=(224,224,3), padding='same'))\n",
        "model.add(Activation('relu'))\n",
        "model.add(AveragePooling2D(pool_size=2))\n",
        "\n",
        "model.add(Conv2D(filters=32, kernel_size=2, activation='relu', padding='same'))\n",
        "model.add(AveragePooling2D(pool_size=2))\n",
        "\n",
        "\n",
        "model.add(Flatten())\n",
        "model.add(Dense(128))\n",
        "model.add(Activation('relu'))\n",
        "model.add(Dense(6,activation='softmax'))\n",
        "model.summary()"
      ]
    },
    {
      "cell_type": "code",
      "execution_count": 25,
      "metadata": {},
      "outputs": [],
      "source": [
        "# Compiling model\n",
        "model.compile(loss = 'categorical_crossentropy', optimizer = 'rmsprop',metrics=['accuracy'])"
      ]
    },
    {
      "cell_type": "code",
      "execution_count": 26,
      "metadata": {},
      "outputs": [
        {
          "name": "stdout",
          "output_type": "stream",
          "text": [
            "Epoch 1/12\n",
            "17/17 [==============================] - 7s 369ms/step - loss: 9.3780 - accuracy: 0.2645 - val_loss: 2.5064 - val_accuracy: 0.3000\n",
            "Epoch 2/12\n",
            "17/17 [==============================] - 6s 365ms/step - loss: 1.1008 - accuracy: 0.6178 - val_loss: 1.2609 - val_accuracy: 0.6000\n",
            "Epoch 3/12\n",
            "17/17 [==============================] - 6s 360ms/step - loss: 0.9342 - accuracy: 0.6988 - val_loss: 1.0212 - val_accuracy: 0.5538\n",
            "Epoch 4/12\n",
            "17/17 [==============================] - 6s 357ms/step - loss: 0.4674 - accuracy: 0.8263 - val_loss: 1.1528 - val_accuracy: 0.5231\n",
            "Epoch 5/12\n",
            "17/17 [==============================] - 6s 358ms/step - loss: 0.3595 - accuracy: 0.8900 - val_loss: 1.3313 - val_accuracy: 0.6154\n",
            "Epoch 6/12\n",
            "17/17 [==============================] - 6s 357ms/step - loss: 0.2628 - accuracy: 0.9266 - val_loss: 0.5580 - val_accuracy: 0.8231\n",
            "Epoch 7/12\n",
            "17/17 [==============================] - 6s 357ms/step - loss: 0.1891 - accuracy: 0.9305 - val_loss: 0.5629 - val_accuracy: 0.8462\n",
            "Epoch 8/12\n",
            "17/17 [==============================] - 6s 356ms/step - loss: 0.1396 - accuracy: 0.9672 - val_loss: 0.9903 - val_accuracy: 0.7462\n",
            "Epoch 9/12\n",
            "17/17 [==============================] - 6s 354ms/step - loss: 0.1655 - accuracy: 0.9517 - val_loss: 1.7135 - val_accuracy: 0.6769\n"
          ]
        }
      ],
      "source": [
        "# Training the model\n",
        "epochs = 12\n",
        "batch_size = 32\n",
        "\n",
        "# Early Stopping\n",
        "callback = EarlyStopping(monitor='val_loss', patience=3)\n",
        "\n",
        "history = model.fit(x_train, y_train, batch_size = batch_size, epochs = epochs, validation_data = (x_val, y_val), callbacks = [callback])"
      ]
    },
    {
      "cell_type": "code",
      "execution_count": 27,
      "metadata": {},
      "outputs": [
        {
          "name": "stdout",
          "output_type": "stream",
          "text": [
            "6/6 [==============================] - 0s 75ms/step - loss: 1.1852 - accuracy: 0.7117\n",
            "Test Accuracy: 71.16564512252808 %\n"
          ]
        }
      ],
      "source": [
        "# Calculating test accuracy \n",
        "scores = model.evaluate(x_test, y_test)\n",
        "print(f\"Test Accuracy: {scores[1]*100} %\")"
      ]
    },
    {
      "cell_type": "markdown",
      "metadata": {},
      "source": [
        "### Average Pooling with ELU"
      ]
    },
    {
      "cell_type": "code",
      "execution_count": 28,
      "metadata": {},
      "outputs": [
        {
          "name": "stdout",
          "output_type": "stream",
          "text": [
            "Model: \"sequential_4\"\n",
            "_________________________________________________________________\n",
            " Layer (type)                Output Shape              Param #   \n",
            "=================================================================\n",
            " conv2d_8 (Conv2D)           (None, 224, 224, 16)      208       \n",
            "                                                                 \n",
            " activation_8 (Activation)   (None, 224, 224, 16)      0         \n",
            "                                                                 \n",
            " average_pooling2d_2 (Averag  (None, 112, 112, 16)     0         \n",
            " ePooling2D)                                                     \n",
            "                                                                 \n",
            " conv2d_9 (Conv2D)           (None, 112, 112, 32)      2080      \n",
            "                                                                 \n",
            " average_pooling2d_3 (Averag  (None, 56, 56, 32)       0         \n",
            " ePooling2D)                                                     \n",
            "                                                                 \n",
            " flatten_4 (Flatten)         (None, 100352)            0         \n",
            "                                                                 \n",
            " dense_8 (Dense)             (None, 128)               12845184  \n",
            "                                                                 \n",
            " activation_9 (Activation)   (None, 128)               0         \n",
            "                                                                 \n",
            " dense_9 (Dense)             (None, 6)                 774       \n",
            "                                                                 \n",
            "=================================================================\n",
            "Total params: 12,848,246\n",
            "Trainable params: 12,848,246\n",
            "Non-trainable params: 0\n",
            "_________________________________________________________________\n"
          ]
        }
      ],
      "source": [
        "## Creating a simple CNN architecture with three convolutional layer, each followed by a average pooling layer\n",
        "\n",
        "model = Sequential()\n",
        "\n",
        "model.add(Conv2D(filters=16, kernel_size=2, input_shape=(224,224,3), padding='same'))\n",
        "model.add(Activation('elu'))\n",
        "model.add(AveragePooling2D(pool_size=2))\n",
        "\n",
        "model.add(Conv2D(filters=32, kernel_size=2, activation='elu', padding='same'))\n",
        "model.add(AveragePooling2D(pool_size=2))\n",
        "\n",
        "\n",
        "model.add(Flatten())\n",
        "model.add(Dense(128))\n",
        "model.add(Activation('elu'))\n",
        "model.add(Dense(6,activation='softmax'))\n",
        "model.summary()"
      ]
    },
    {
      "cell_type": "code",
      "execution_count": 29,
      "metadata": {},
      "outputs": [],
      "source": [
        "# Compiling model\n",
        "model.compile(loss = 'categorical_crossentropy', optimizer = 'rmsprop',metrics=['accuracy'])"
      ]
    },
    {
      "cell_type": "code",
      "execution_count": 30,
      "metadata": {},
      "outputs": [
        {
          "name": "stdout",
          "output_type": "stream",
          "text": [
            "Epoch 1/12\n",
            "17/17 [==============================] - 8s 433ms/step - loss: 21.4797 - accuracy: 0.3494 - val_loss: 2.0195 - val_accuracy: 0.4615\n",
            "Epoch 2/12\n",
            "17/17 [==============================] - 7s 425ms/step - loss: 1.3561 - accuracy: 0.5463 - val_loss: 1.9162 - val_accuracy: 0.4231\n",
            "Epoch 3/12\n",
            "17/17 [==============================] - 7s 425ms/step - loss: 1.4432 - accuracy: 0.5753 - val_loss: 3.3553 - val_accuracy: 0.3846\n",
            "Epoch 4/12\n",
            "17/17 [==============================] - 7s 419ms/step - loss: 0.8223 - accuracy: 0.7375 - val_loss: 3.1021 - val_accuracy: 0.3000\n",
            "Epoch 5/12\n",
            "17/17 [==============================] - 7s 422ms/step - loss: 0.9939 - accuracy: 0.7297 - val_loss: 1.9227 - val_accuracy: 0.5231\n"
          ]
        }
      ],
      "source": [
        "# Training the model\n",
        "epochs = 12\n",
        "batch_size = 32\n",
        "\n",
        "# Early Stopping\n",
        "callback = EarlyStopping(monitor='val_loss', patience=3)\n",
        "\n",
        "history = model.fit(x_train, y_train, batch_size = batch_size, epochs = epochs, validation_data = (x_val, y_val), callbacks = [callback])"
      ]
    },
    {
      "cell_type": "code",
      "execution_count": 31,
      "metadata": {},
      "outputs": [
        {
          "name": "stdout",
          "output_type": "stream",
          "text": [
            "6/6 [==============================] - 1s 120ms/step - loss: 1.3901 - accuracy: 0.5767\n",
            "Test Accuracy: 57.66870975494385 %\n"
          ]
        }
      ],
      "source": [
        "# Calculating test accuracy \n",
        "scores = model.evaluate(x_test, y_test)\n",
        "print(f\"Test Accuracy: {scores[1]*100} %\")"
      ]
    },
    {
      "cell_type": "markdown",
      "metadata": {},
      "source": [
        "### CNN with SELU"
      ]
    },
    {
      "cell_type": "code",
      "execution_count": 32,
      "metadata": {},
      "outputs": [
        {
          "name": "stdout",
          "output_type": "stream",
          "text": [
            "Model: \"sequential_5\"\n",
            "_________________________________________________________________\n",
            " Layer (type)                Output Shape              Param #   \n",
            "=================================================================\n",
            " conv2d_10 (Conv2D)          (None, 224, 224, 16)      208       \n",
            "                                                                 \n",
            " activation_10 (Activation)  (None, 224, 224, 16)      0         \n",
            "                                                                 \n",
            " average_pooling2d_4 (Averag  (None, 112, 112, 16)     0         \n",
            " ePooling2D)                                                     \n",
            "                                                                 \n",
            " conv2d_11 (Conv2D)          (None, 112, 112, 32)      2080      \n",
            "                                                                 \n",
            " average_pooling2d_5 (Averag  (None, 56, 56, 32)       0         \n",
            " ePooling2D)                                                     \n",
            "                                                                 \n",
            " flatten_5 (Flatten)         (None, 100352)            0         \n",
            "                                                                 \n",
            " dense_10 (Dense)            (None, 128)               12845184  \n",
            "                                                                 \n",
            " activation_11 (Activation)  (None, 128)               0         \n",
            "                                                                 \n",
            " dense_11 (Dense)            (None, 6)                 774       \n",
            "                                                                 \n",
            "=================================================================\n",
            "Total params: 12,848,246\n",
            "Trainable params: 12,848,246\n",
            "Non-trainable params: 0\n",
            "_________________________________________________________________\n"
          ]
        }
      ],
      "source": [
        "## Creating a simple CNN architecture with three convolutional layer, each followed by a average pooling layer\n",
        "\n",
        "model = Sequential()\n",
        "\n",
        "model.add(Conv2D(filters=16, kernel_size=2, input_shape=(224,224,3), padding='same'))\n",
        "model.add(Activation('selu'))\n",
        "model.add(AveragePooling2D(pool_size=2))\n",
        "\n",
        "model.add(Conv2D(filters=32, kernel_size=2, activation='selu', padding='same'))\n",
        "model.add(AveragePooling2D(pool_size=2))\n",
        "\n",
        "\n",
        "model.add(Flatten())\n",
        "model.add(Dense(128))\n",
        "model.add(Activation('selu'))\n",
        "model.add(Dense(6,activation='softmax'))\n",
        "model.summary()"
      ]
    },
    {
      "cell_type": "code",
      "execution_count": 33,
      "metadata": {},
      "outputs": [],
      "source": [
        "# Compiling model\n",
        "model.compile(loss = 'categorical_crossentropy', optimizer = 'rmsprop',metrics=['accuracy'])"
      ]
    },
    {
      "cell_type": "code",
      "execution_count": 34,
      "metadata": {},
      "outputs": [
        {
          "name": "stdout",
          "output_type": "stream",
          "text": [
            "Epoch 1/12\n",
            "17/17 [==============================] - 8s 420ms/step - loss: 28.4623 - accuracy: 0.3282 - val_loss: 3.5997 - val_accuracy: 0.2231\n",
            "Epoch 2/12\n",
            "17/17 [==============================] - 7s 403ms/step - loss: 1.3470 - accuracy: 0.5367 - val_loss: 7.6461 - val_accuracy: 0.2077\n",
            "Epoch 3/12\n",
            "17/17 [==============================] - 7s 440ms/step - loss: 1.3825 - accuracy: 0.6120 - val_loss: 3.1253 - val_accuracy: 0.3615\n",
            "Epoch 4/12\n",
            "17/17 [==============================] - 8s 472ms/step - loss: 2.2159 - accuracy: 0.5695 - val_loss: 1.1708 - val_accuracy: 0.6385\n",
            "Epoch 5/12\n",
            "17/17 [==============================] - 8s 498ms/step - loss: 0.6228 - accuracy: 0.8050 - val_loss: 1.2131 - val_accuracy: 0.6923\n",
            "Epoch 6/12\n",
            "17/17 [==============================] - 13s 761ms/step - loss: 0.6383 - accuracy: 0.7819 - val_loss: 2.8360 - val_accuracy: 0.4692\n",
            "Epoch 7/12\n",
            "17/17 [==============================] - 11s 654ms/step - loss: 0.9310 - accuracy: 0.7587 - val_loss: 2.6594 - val_accuracy: 0.5769\n"
          ]
        }
      ],
      "source": [
        "# Training the model\n",
        "epochs = 12\n",
        "batch_size = 32\n",
        "\n",
        "# Early Stopping\n",
        "callback = EarlyStopping(monitor='val_loss', patience=3)\n",
        "\n",
        "history = model.fit(x_train, y_train, batch_size = batch_size, epochs = epochs, validation_data = (x_val, y_val), callbacks = [callback])"
      ]
    },
    {
      "cell_type": "code",
      "execution_count": 35,
      "metadata": {},
      "outputs": [
        {
          "name": "stdout",
          "output_type": "stream",
          "text": [
            "6/6 [==============================] - 1s 198ms/step - loss: 2.2841 - accuracy: 0.5583\n",
            "Test Accuracy: 55.8282196521759 %\n"
          ]
        }
      ],
      "source": [
        "# Calculating test accuracy \n",
        "scores = model.evaluate(x_test, y_test)\n",
        "print(f\"Test Accuracy: {scores[1]*100} %\")"
      ]
    },
    {
      "cell_type": "markdown",
      "metadata": {},
      "source": [
        "### Increasing filters with Average Pooling"
      ]
    },
    {
      "cell_type": "markdown",
      "metadata": {},
      "source": [
        "### CNN with Relu"
      ]
    },
    {
      "cell_type": "code",
      "execution_count": 48,
      "metadata": {},
      "outputs": [
        {
          "name": "stdout",
          "output_type": "stream",
          "text": [
            "Model: \"sequential_9\"\n",
            "_________________________________________________________________\n",
            " Layer (type)                Output Shape              Param #   \n",
            "=================================================================\n",
            " conv2d_18 (Conv2D)          (None, 224, 224, 32)      416       \n",
            "                                                                 \n",
            " activation_18 (Activation)  (None, 224, 224, 32)      0         \n",
            "                                                                 \n",
            " average_pooling2d_6 (Averag  (None, 112, 112, 32)     0         \n",
            " ePooling2D)                                                     \n",
            "                                                                 \n",
            " conv2d_19 (Conv2D)          (None, 112, 112, 64)      8256      \n",
            "                                                                 \n",
            " average_pooling2d_7 (Averag  (None, 56, 56, 64)       0         \n",
            " ePooling2D)                                                     \n",
            "                                                                 \n",
            " flatten_9 (Flatten)         (None, 200704)            0         \n",
            "                                                                 \n",
            " dense_18 (Dense)            (None, 128)               25690240  \n",
            "                                                                 \n",
            " activation_19 (Activation)  (None, 128)               0         \n",
            "                                                                 \n",
            " dense_19 (Dense)            (None, 6)                 774       \n",
            "                                                                 \n",
            "=================================================================\n",
            "Total params: 25,699,686\n",
            "Trainable params: 25,699,686\n",
            "Non-trainable params: 0\n",
            "_________________________________________________________________\n"
          ]
        }
      ],
      "source": [
        "## Creating a simple CNN architecture with three convolutional layer, each followed by a average pooling layer\n",
        "\n",
        "model = Sequential()\n",
        "\n",
        "model.add(Conv2D(filters=32, kernel_size=2, input_shape=(224,224,3), padding='same'))\n",
        "model.add(Activation('relu'))\n",
        "model.add(AveragePooling2D(pool_size=2))\n",
        "\n",
        "model.add(Conv2D(filters=64, kernel_size=2, activation='relu', padding='same'))\n",
        "model.add(AveragePooling2D(pool_size=2))\n",
        "\n",
        "\n",
        "model.add(Flatten())\n",
        "model.add(Dense(128))\n",
        "model.add(Activation('relu'))\n",
        "model.add(Dense(6,activation='softmax'))\n",
        "model.summary()"
      ]
    },
    {
      "cell_type": "code",
      "execution_count": 49,
      "metadata": {},
      "outputs": [],
      "source": [
        "# Compiling model\n",
        "model.compile(loss = 'categorical_crossentropy', optimizer = 'rmsprop',metrics=['accuracy'])"
      ]
    },
    {
      "cell_type": "code",
      "execution_count": 50,
      "metadata": {},
      "outputs": [
        {
          "name": "stdout",
          "output_type": "stream",
          "text": [
            "Epoch 1/12\n",
            "17/17 [==============================] - 16s 883ms/step - loss: 8.1285 - accuracy: 0.3378 - val_loss: 1.8849 - val_accuracy: 0.3846\n",
            "Epoch 2/12\n",
            "17/17 [==============================] - 14s 802ms/step - loss: 0.8466 - accuracy: 0.6969 - val_loss: 1.4673 - val_accuracy: 0.5615\n",
            "Epoch 3/12\n",
            "17/17 [==============================] - 14s 806ms/step - loss: 0.6030 - accuracy: 0.7876 - val_loss: 0.8121 - val_accuracy: 0.7308\n",
            "Epoch 4/12\n",
            "17/17 [==============================] - 13s 767ms/step - loss: 0.3823 - accuracy: 0.8822 - val_loss: 1.8907 - val_accuracy: 0.5462\n",
            "Epoch 5/12\n",
            "17/17 [==============================] - 13s 728ms/step - loss: 0.2774 - accuracy: 0.9208 - val_loss: 2.5573 - val_accuracy: 0.5231\n",
            "Epoch 6/12\n",
            "17/17 [==============================] - 14s 815ms/step - loss: 0.4961 - accuracy: 0.8707 - val_loss: 0.6310 - val_accuracy: 0.8077\n",
            "Epoch 7/12\n",
            "17/17 [==============================] - 17s 990ms/step - loss: 0.0534 - accuracy: 0.9903 - val_loss: 0.5764 - val_accuracy: 0.8385\n",
            "Epoch 8/12\n",
            "17/17 [==============================] - 16s 917ms/step - loss: 0.5591 - accuracy: 0.9093 - val_loss: 0.7834 - val_accuracy: 0.7385\n",
            "Epoch 9/12\n",
            "17/17 [==============================] - 15s 869ms/step - loss: 0.0870 - accuracy: 0.9865 - val_loss: 0.4970 - val_accuracy: 0.8385\n",
            "Epoch 10/12\n",
            "17/17 [==============================] - 14s 814ms/step - loss: 0.0148 - accuracy: 0.9981 - val_loss: 1.2002 - val_accuracy: 0.7769\n",
            "Epoch 11/12\n",
            "17/17 [==============================] - 14s 837ms/step - loss: 0.1258 - accuracy: 0.9672 - val_loss: 0.9265 - val_accuracy: 0.7385\n",
            "Epoch 12/12\n",
            "17/17 [==============================] - 13s 750ms/step - loss: 0.0428 - accuracy: 0.9865 - val_loss: 0.6125 - val_accuracy: 0.8615\n"
          ]
        }
      ],
      "source": [
        "# Training the model\n",
        "epochs = 12\n",
        "batch_size = 32\n",
        "\n",
        "# Early Stopping\n",
        "callback = EarlyStopping(monitor='val_loss', patience=3)\n",
        "\n",
        "history = model.fit(x_train, y_train, batch_size = batch_size, epochs = epochs, validation_data = (x_val, y_val), callbacks = [callback])"
      ]
    },
    {
      "cell_type": "code",
      "execution_count": 51,
      "metadata": {},
      "outputs": [
        {
          "name": "stdout",
          "output_type": "stream",
          "text": [
            "6/6 [==============================] - 1s 135ms/step - loss: 0.3081 - accuracy: 0.8896\n",
            "Test Accuracy: 88.95705342292786 %\n"
          ]
        }
      ],
      "source": [
        "# Calculating test accuracy \n",
        "scores = model.evaluate(x_test, y_test)\n",
        "print(f\"Test Accuracy: {scores[1]*100} %\")"
      ]
    },
    {
      "cell_type": "markdown",
      "metadata": {},
      "source": [
        "### CNN with ELU"
      ]
    },
    {
      "cell_type": "code",
      "execution_count": 52,
      "metadata": {},
      "outputs": [
        {
          "name": "stdout",
          "output_type": "stream",
          "text": [
            "Model: \"sequential_10\"\n",
            "_________________________________________________________________\n",
            " Layer (type)                Output Shape              Param #   \n",
            "=================================================================\n",
            " conv2d_20 (Conv2D)          (None, 224, 224, 32)      416       \n",
            "                                                                 \n",
            " activation_20 (Activation)  (None, 224, 224, 32)      0         \n",
            "                                                                 \n",
            " average_pooling2d_8 (Averag  (None, 112, 112, 32)     0         \n",
            " ePooling2D)                                                     \n",
            "                                                                 \n",
            " conv2d_21 (Conv2D)          (None, 112, 112, 64)      8256      \n",
            "                                                                 \n",
            " average_pooling2d_9 (Averag  (None, 56, 56, 64)       0         \n",
            " ePooling2D)                                                     \n",
            "                                                                 \n",
            " flatten_10 (Flatten)        (None, 200704)            0         \n",
            "                                                                 \n",
            " dense_20 (Dense)            (None, 128)               25690240  \n",
            "                                                                 \n",
            " activation_21 (Activation)  (None, 128)               0         \n",
            "                                                                 \n",
            " dense_21 (Dense)            (None, 6)                 774       \n",
            "                                                                 \n",
            "=================================================================\n",
            "Total params: 25,699,686\n",
            "Trainable params: 25,699,686\n",
            "Non-trainable params: 0\n",
            "_________________________________________________________________\n"
          ]
        }
      ],
      "source": [
        "## Creating a simple CNN architecture with three convolutional layer, each followed by a average pooling layer\n",
        "\n",
        "model = Sequential()\n",
        "\n",
        "model.add(Conv2D(filters=32, kernel_size=2, input_shape=(224,224,3), padding='same'))\n",
        "model.add(Activation('elu'))\n",
        "model.add(AveragePooling2D(pool_size=2))\n",
        "\n",
        "model.add(Conv2D(filters=64, kernel_size=2, activation='elu', padding='same'))\n",
        "model.add(AveragePooling2D(pool_size=2))\n",
        "\n",
        "\n",
        "model.add(Flatten())\n",
        "model.add(Dense(128))\n",
        "model.add(Activation('elu'))\n",
        "model.add(Dense(6,activation='softmax'))\n",
        "model.summary()"
      ]
    },
    {
      "cell_type": "code",
      "execution_count": 53,
      "metadata": {},
      "outputs": [],
      "source": [
        "# Compiling model\n",
        "model.compile(loss = 'categorical_crossentropy', optimizer = 'rmsprop',metrics=['accuracy'])"
      ]
    },
    {
      "cell_type": "code",
      "execution_count": 54,
      "metadata": {},
      "outputs": [
        {
          "name": "stdout",
          "output_type": "stream",
          "text": [
            "Epoch 1/12\n",
            "17/17 [==============================] - 17s 957ms/step - loss: 29.9404 - accuracy: 0.2625 - val_loss: 2.8329 - val_accuracy: 0.3154\n",
            "Epoch 2/12\n",
            "17/17 [==============================] - 16s 958ms/step - loss: 1.1207 - accuracy: 0.6274 - val_loss: 1.8529 - val_accuracy: 0.5000\n",
            "Epoch 3/12\n",
            "17/17 [==============================] - 16s 949ms/step - loss: 2.1116 - accuracy: 0.5656 - val_loss: 3.0458 - val_accuracy: 0.4462\n",
            "Epoch 4/12\n",
            "17/17 [==============================] - 16s 951ms/step - loss: 0.8287 - accuracy: 0.7259 - val_loss: 7.4113 - val_accuracy: 0.2692\n",
            "Epoch 5/12\n",
            "17/17 [==============================] - 15s 851ms/step - loss: 1.8181 - accuracy: 0.6564 - val_loss: 0.9587 - val_accuracy: 0.7231\n",
            "Epoch 6/12\n",
            "17/17 [==============================] - 14s 799ms/step - loss: 0.7648 - accuracy: 0.7529 - val_loss: 3.0476 - val_accuracy: 0.5308\n",
            "Epoch 7/12\n",
            "17/17 [==============================] - 16s 954ms/step - loss: 1.2502 - accuracy: 0.7471 - val_loss: 9.3249 - val_accuracy: 0.4462\n",
            "Epoch 8/12\n",
            "17/17 [==============================] - 16s 973ms/step - loss: 1.1700 - accuracy: 0.7915 - val_loss: 1.1903 - val_accuracy: 0.7154\n"
          ]
        }
      ],
      "source": [
        "# Training the model\n",
        "epochs = 12\n",
        "batch_size = 32\n",
        "\n",
        "# Early Stopping\n",
        "callback = EarlyStopping(monitor='val_loss', patience=3)\n",
        "\n",
        "history = model.fit(x_train, y_train, batch_size = batch_size, epochs = epochs, validation_data = (x_val, y_val), callbacks = [callback])"
      ]
    },
    {
      "cell_type": "code",
      "execution_count": 55,
      "metadata": {},
      "outputs": [
        {
          "name": "stdout",
          "output_type": "stream",
          "text": [
            "6/6 [==============================] - 2s 277ms/step - loss: 1.1270 - accuracy: 0.7301\n",
            "Test Accuracy: 73.00613522529602 %\n"
          ]
        }
      ],
      "source": [
        "# Calculating test accuracy \n",
        "scores = model.evaluate(x_test, y_test)\n",
        "print(f\"Test Accuracy: {scores[1]*100} %\")"
      ]
    },
    {
      "cell_type": "markdown",
      "metadata": {},
      "source": [
        "### CNN with SELU"
      ]
    },
    {
      "cell_type": "code",
      "execution_count": 56,
      "metadata": {},
      "outputs": [
        {
          "name": "stdout",
          "output_type": "stream",
          "text": [
            "Model: \"sequential_11\"\n",
            "_________________________________________________________________\n",
            " Layer (type)                Output Shape              Param #   \n",
            "=================================================================\n",
            " conv2d_22 (Conv2D)          (None, 224, 224, 32)      416       \n",
            "                                                                 \n",
            " activation_22 (Activation)  (None, 224, 224, 32)      0         \n",
            "                                                                 \n",
            " average_pooling2d_10 (Avera  (None, 112, 112, 32)     0         \n",
            " gePooling2D)                                                    \n",
            "                                                                 \n",
            " conv2d_23 (Conv2D)          (None, 112, 112, 64)      8256      \n",
            "                                                                 \n",
            " average_pooling2d_11 (Avera  (None, 56, 56, 64)       0         \n",
            " gePooling2D)                                                    \n",
            "                                                                 \n",
            " flatten_11 (Flatten)        (None, 200704)            0         \n",
            "                                                                 \n",
            " dense_22 (Dense)            (None, 128)               25690240  \n",
            "                                                                 \n",
            " activation_23 (Activation)  (None, 128)               0         \n",
            "                                                                 \n",
            " dense_23 (Dense)            (None, 6)                 774       \n",
            "                                                                 \n",
            "=================================================================\n",
            "Total params: 25,699,686\n",
            "Trainable params: 25,699,686\n",
            "Non-trainable params: 0\n",
            "_________________________________________________________________\n"
          ]
        }
      ],
      "source": [
        "## Creating a simple CNN architecture with three convolutional layer, each followed by a average pooling layer\n",
        "\n",
        "model = Sequential()\n",
        "\n",
        "model.add(Conv2D(filters=32, kernel_size=2, input_shape=(224,224,3), padding='same'))\n",
        "model.add(Activation('selu'))\n",
        "model.add(AveragePooling2D(pool_size=2))\n",
        "\n",
        "model.add(Conv2D(filters=64, kernel_size=2, activation='selu', padding='same'))\n",
        "model.add(AveragePooling2D(pool_size=2))\n",
        "\n",
        "\n",
        "model.add(Flatten())\n",
        "model.add(Dense(128))\n",
        "model.add(Activation('selu'))\n",
        "model.add(Dense(6,activation='softmax'))\n",
        "model.summary()"
      ]
    },
    {
      "cell_type": "code",
      "execution_count": 57,
      "metadata": {},
      "outputs": [],
      "source": [
        "# Compiling model\n",
        "model.compile(loss = 'categorical_crossentropy', optimizer = 'rmsprop',metrics=['accuracy'])"
      ]
    },
    {
      "cell_type": "code",
      "execution_count": 58,
      "metadata": {},
      "outputs": [
        {
          "name": "stdout",
          "output_type": "stream",
          "text": [
            "Epoch 1/12\n",
            "17/17 [==============================] - 18s 1s/step - loss: 71.9287 - accuracy: 0.2664 - val_loss: 4.8356 - val_accuracy: 0.3615\n",
            "Epoch 2/12\n",
            "17/17 [==============================] - 17s 1s/step - loss: 3.3575 - accuracy: 0.4981 - val_loss: 4.9618 - val_accuracy: 0.4154\n",
            "Epoch 3/12\n",
            "17/17 [==============================] - 17s 1000ms/step - loss: 2.1236 - accuracy: 0.5463 - val_loss: 4.3423 - val_accuracy: 0.4692\n",
            "Epoch 4/12\n",
            "17/17 [==============================] - 20s 1s/step - loss: 6.2161 - accuracy: 0.4865 - val_loss: 2.7284 - val_accuracy: 0.5846\n",
            "Epoch 5/12\n",
            "17/17 [==============================] - 20s 1s/step - loss: 0.8937 - accuracy: 0.7664 - val_loss: 2.2236 - val_accuracy: 0.6231\n",
            "Epoch 6/12\n",
            "17/17 [==============================] - 18s 1s/step - loss: 2.2373 - accuracy: 0.6660 - val_loss: 6.1287 - val_accuracy: 0.3769\n",
            "Epoch 7/12\n",
            "17/17 [==============================] - 17s 1s/step - loss: 1.4678 - accuracy: 0.7278 - val_loss: 2.5593 - val_accuracy: 0.6308\n",
            "Epoch 8/12\n",
            "17/17 [==============================] - 18s 1s/step - loss: 2.8378 - accuracy: 0.6062 - val_loss: 5.2277 - val_accuracy: 0.5846\n"
          ]
        }
      ],
      "source": [
        "# Training the model\n",
        "epochs = 12\n",
        "batch_size = 32\n",
        "\n",
        "# Early Stopping\n",
        "callback = EarlyStopping(monitor='val_loss', patience=3)\n",
        "\n",
        "history = model.fit(x_train, y_train, batch_size = batch_size, epochs = epochs, validation_data = (x_val, y_val), callbacks = [callback])"
      ]
    },
    {
      "cell_type": "code",
      "execution_count": 59,
      "metadata": {},
      "outputs": [
        {
          "name": "stdout",
          "output_type": "stream",
          "text": [
            "6/6 [==============================] - 2s 258ms/step - loss: 4.2831 - accuracy: 0.5583\n",
            "Test Accuracy: 55.8282196521759 %\n"
          ]
        }
      ],
      "source": [
        "# Calculating test accuracy \n",
        "scores = model.evaluate(x_test, y_test)\n",
        "print(f\"Test Accuracy: {scores[1]*100} %\")"
      ]
    },
    {
      "cell_type": "markdown",
      "metadata": {},
      "source": [
        "## Using different Architecture"
      ]
    },
    {
      "cell_type": "markdown",
      "metadata": {},
      "source": [
        "### LeNet"
      ]
    },
    {
      "cell_type": "code",
      "execution_count": 60,
      "metadata": {},
      "outputs": [
        {
          "name": "stdout",
          "output_type": "stream",
          "text": [
            "Model: \"sequential_12\"\n",
            "_________________________________________________________________\n",
            " Layer (type)                Output Shape              Param #   \n",
            "=================================================================\n",
            " conv2d_24 (Conv2D)          (None, 222, 222, 6)       168       \n",
            "                                                                 \n",
            " average_pooling2d_12 (Avera  (None, 111, 111, 6)      0         \n",
            " gePooling2D)                                                    \n",
            "                                                                 \n",
            " conv2d_25 (Conv2D)          (None, 109, 109, 16)      880       \n",
            "                                                                 \n",
            " average_pooling2d_13 (Avera  (None, 54, 54, 16)       0         \n",
            " gePooling2D)                                                    \n",
            "                                                                 \n",
            " flatten_12 (Flatten)        (None, 46656)             0         \n",
            "                                                                 \n",
            " dense_24 (Dense)            (None, 120)               5598840   \n",
            "                                                                 \n",
            " dense_25 (Dense)            (None, 84)                10164     \n",
            "                                                                 \n",
            " dense_26 (Dense)            (None, 6)                 510       \n",
            "                                                                 \n",
            "=================================================================\n",
            "Total params: 5,610,562\n",
            "Trainable params: 5,610,562\n",
            "Non-trainable params: 0\n",
            "_________________________________________________________________\n"
          ]
        }
      ],
      "source": [
        "model = Sequential()\n",
        "\n",
        "model.add(Conv2D(filters=6, kernel_size=(3, 3), activation='relu', input_shape=(224,224,3)))\n",
        "model.add(AveragePooling2D())\n",
        "\n",
        "model.add(Conv2D(filters=16, kernel_size=(3, 3), activation='relu'))\n",
        "model.add(AveragePooling2D())\n",
        "\n",
        "model.add(Flatten())\n",
        "model.add(Dense(units=120, activation='relu'))\n",
        "model.add(Dense(units=84, activation='relu'))\n",
        "model.add(Dense(6, activation = 'softmax'))\n",
        "model.summary()"
      ]
    },
    {
      "cell_type": "code",
      "execution_count": 61,
      "metadata": {},
      "outputs": [],
      "source": [
        "# Compiling model\n",
        "model.compile(loss = 'categorical_crossentropy', optimizer = 'adam',metrics=['accuracy'])"
      ]
    },
    {
      "cell_type": "code",
      "execution_count": 62,
      "metadata": {},
      "outputs": [
        {
          "name": "stdout",
          "output_type": "stream",
          "text": [
            "Epoch 1/50\n",
            "17/17 [==============================] - 8s 354ms/step - loss: 1.7804 - accuracy: 0.3533 - val_loss: 1.3677 - val_accuracy: 0.5077\n",
            "Epoch 2/50\n",
            "17/17 [==============================] - 6s 376ms/step - loss: 0.9782 - accuracy: 0.6660 - val_loss: 1.0139 - val_accuracy: 0.5923\n",
            "Epoch 3/50\n",
            "17/17 [==============================] - 6s 339ms/step - loss: 0.6168 - accuracy: 0.8089 - val_loss: 0.6910 - val_accuracy: 0.7538\n",
            "Epoch 4/50\n",
            "17/17 [==============================] - 6s 380ms/step - loss: 0.3421 - accuracy: 0.8938 - val_loss: 0.6119 - val_accuracy: 0.8077\n",
            "Epoch 5/50\n",
            "17/17 [==============================] - 6s 359ms/step - loss: 0.2110 - accuracy: 0.9479 - val_loss: 0.5831 - val_accuracy: 0.7769\n",
            "Epoch 6/50\n",
            "17/17 [==============================] - 5s 306ms/step - loss: 0.1414 - accuracy: 0.9595 - val_loss: 0.5359 - val_accuracy: 0.8154\n",
            "Epoch 7/50\n",
            "17/17 [==============================] - 5s 300ms/step - loss: 0.0947 - accuracy: 0.9768 - val_loss: 0.6249 - val_accuracy: 0.7923\n",
            "Epoch 8/50\n",
            "17/17 [==============================] - 5s 309ms/step - loss: 0.0556 - accuracy: 0.9903 - val_loss: 0.6721 - val_accuracy: 0.7538\n",
            "Epoch 9/50\n",
            "17/17 [==============================] - 5s 309ms/step - loss: 0.0368 - accuracy: 0.9981 - val_loss: 0.6301 - val_accuracy: 0.7615\n"
          ]
        }
      ],
      "source": [
        "# Training the model\n",
        "epochs = 50\n",
        "batch_size = 32\n",
        "\n",
        "# Early Stopping\n",
        "callback = EarlyStopping(monitor='val_loss', patience=3)\n",
        "\n",
        "history = model.fit(x_train, y_train, batch_size = batch_size, epochs = epochs, validation_data = (x_val, y_val), callbacks = [callback])"
      ]
    },
    {
      "cell_type": "code",
      "execution_count": 63,
      "metadata": {},
      "outputs": [
        {
          "name": "stdout",
          "output_type": "stream",
          "text": [
            "6/6 [==============================] - 0s 76ms/step - loss: 0.4404 - accuracy: 0.8344\n",
            "Test Accuracy: 83.43558311462402 %\n"
          ]
        }
      ],
      "source": [
        "# Calculating test accuracy \n",
        "scores = model.evaluate(x_test, y_test)\n",
        "print(f\"Test Accuracy: {scores[1]*100} %\")"
      ]
    },
    {
      "cell_type": "markdown",
      "metadata": {},
      "source": [
        "### AlexNet"
      ]
    },
    {
      "cell_type": "code",
      "execution_count": 64,
      "metadata": {},
      "outputs": [],
      "source": [
        "model = Sequential()\n",
        "\n",
        "model.add(Conv2D(filters=96, kernel_size=(11, 11), strides=(4, 4), activation=\"relu\", input_shape=(224,224, 3)))\n",
        "model.add(BatchNormalization())\n",
        "model.add(MaxPooling2D(pool_size=(3, 3), strides= (2, 2)))\n",
        "\n",
        "model.add(Conv2D(filters=256, kernel_size=(5, 5), strides=(1, 1), activation=\"relu\", padding=\"same\"))\n",
        "model.add(BatchNormalization())\n",
        "model.add(MaxPooling2D(pool_size=(3, 3), strides=(2, 2)))\n",
        "\n",
        "model.add(Conv2D(filters=384, kernel_size=(3, 3), strides=(1, 1), activation=\"relu\", padding=\"same\"))\n",
        "model.add(BatchNormalization())\n",
        "\n",
        "model.add(Conv2D(filters=384, kernel_size=(3, 3), strides=(1, 1), activation=\"relu\", padding=\"same\"))\n",
        "model.add(BatchNormalization())\n",
        "\n",
        "model.add(Conv2D(filters=256, kernel_size=(3, 3), strides=(1, 1), activation=\"relu\", padding=\"same\"))\n",
        "model.add(BatchNormalization())\n",
        "model.add(MaxPooling2D(pool_size=(3, 3), strides=(2, 2)))\n",
        "\n",
        "model.add(Flatten())\n",
        "model.add(Dense(4096, activation=\"relu\"))\n",
        "model.add(Dropout(0.5))\n",
        "model.add(Dense(6, activation=\"softmax\"))"
      ]
    },
    {
      "cell_type": "code",
      "execution_count": 65,
      "metadata": {},
      "outputs": [],
      "source": [
        "# Compiling model\n",
        "model.compile(loss = 'categorical_crossentropy', optimizer = 'adam',metrics=['accuracy'])"
      ]
    },
    {
      "cell_type": "code",
      "execution_count": 66,
      "metadata": {},
      "outputs": [
        {
          "name": "stdout",
          "output_type": "stream",
          "text": [
            "Epoch 1/12\n",
            "17/17 [==============================] - 26s 1s/step - loss: 24.2003 - accuracy: 0.3320 - val_loss: 2075.7200 - val_accuracy: 0.1692\n",
            "Epoch 2/12\n",
            "17/17 [==============================] - 33s 2s/step - loss: 9.9889 - accuracy: 0.5077 - val_loss: 459.0771 - val_accuracy: 0.1923\n",
            "Epoch 3/12\n",
            "17/17 [==============================] - 29s 2s/step - loss: 7.4328 - accuracy: 0.6042 - val_loss: 225.8392 - val_accuracy: 0.1923\n",
            "Epoch 4/12\n",
            "17/17 [==============================] - 27s 2s/step - loss: 4.9310 - accuracy: 0.6216 - val_loss: 67.2606 - val_accuracy: 0.3308\n",
            "Epoch 5/12\n",
            "17/17 [==============================] - 25s 2s/step - loss: 6.7061 - accuracy: 0.6448 - val_loss: 111.9508 - val_accuracy: 0.2000\n",
            "Epoch 6/12\n",
            "17/17 [==============================] - 26s 2s/step - loss: 7.2465 - accuracy: 0.6757 - val_loss: 48.4925 - val_accuracy: 0.2923\n",
            "Epoch 7/12\n",
            "17/17 [==============================] - 29s 2s/step - loss: 5.3859 - accuracy: 0.6737 - val_loss: 25.9040 - val_accuracy: 0.2692\n",
            "Epoch 8/12\n",
            "17/17 [==============================] - 28s 2s/step - loss: 3.5091 - accuracy: 0.7490 - val_loss: 45.2772 - val_accuracy: 0.2077\n",
            "Epoch 9/12\n",
            "17/17 [==============================] - 32s 2s/step - loss: 2.1325 - accuracy: 0.8127 - val_loss: 12.9277 - val_accuracy: 0.4385\n",
            "Epoch 10/12\n",
            "17/17 [==============================] - 29s 2s/step - loss: 1.9159 - accuracy: 0.8089 - val_loss: 10.4189 - val_accuracy: 0.4923\n",
            "Epoch 11/12\n",
            "17/17 [==============================] - 32s 2s/step - loss: 1.1634 - accuracy: 0.8552 - val_loss: 4.0271 - val_accuracy: 0.6615\n",
            "Epoch 12/12\n",
            "17/17 [==============================] - 30s 2s/step - loss: 1.4101 - accuracy: 0.8340 - val_loss: 4.6496 - val_accuracy: 0.6846\n"
          ]
        }
      ],
      "source": [
        "# Training the model\n",
        "epochs = 12\n",
        "batch_size = 32\n",
        "\n",
        "# Early Stopping\n",
        "callback = EarlyStopping(monitor='val_loss', patience=3)\n",
        "\n",
        "history = model.fit(x_train, y_train, batch_size = batch_size, epochs = epochs, validation_data = (x_val, y_val), callbacks = [callback])"
      ]
    },
    {
      "cell_type": "code",
      "execution_count": 67,
      "metadata": {},
      "outputs": [
        {
          "name": "stdout",
          "output_type": "stream",
          "text": [
            "6/6 [==============================] - 2s 296ms/step - loss: 3.3974 - accuracy: 0.6748\n",
            "Test Accuracy: 67.48466491699219 %\n"
          ]
        }
      ],
      "source": [
        "# Calculating test accuracy \n",
        "scores = model.evaluate(x_test, y_test)\n",
        "print(f\"Test Accuracy: {scores[1]*100} %\")"
      ]
    },
    {
      "cell_type": "code",
      "execution_count": null,
      "metadata": {},
      "outputs": [],
      "source": []
    }
  ],
  "metadata": {
    "accelerator": "GPU",
    "colab": {
      "collapsed_sections": [],
      "name": "Intel Image Classification.ipynb",
      "provenance": []
    },
    "kernelspec": {
      "display_name": "Python 3.9.7 64-bit",
      "language": "python",
      "name": "python3"
    },
    "language_info": {
      "codemirror_mode": {
        "name": "ipython",
        "version": 3
      },
      "file_extension": ".py",
      "mimetype": "text/x-python",
      "name": "python",
      "nbconvert_exporter": "python",
      "pygments_lexer": "ipython3",
      "version": "3.9.7"
    },
    "vscode": {
      "interpreter": {
        "hash": "95f57ecaf1e4684a97728584cbdcdcfb0a14de4fde6afb1e55592db96a99a5c0"
      }
    }
  },
  "nbformat": 4,
  "nbformat_minor": 0
}
