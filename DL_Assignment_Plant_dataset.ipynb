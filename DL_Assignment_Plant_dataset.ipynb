{
  "cells": [
    {
      "cell_type": "markdown",
      "metadata": {},
      "source": [
        "## Importing Dataset"
      ]
    },
    {
      "cell_type": "code",
      "execution_count": 1,
      "metadata": {
        "id": "kgD05QX3N-Ox"
      },
      "outputs": [],
      "source": [
        "import numpy as np\n",
        "import pandas as pd\n",
        "import matplotlib.pyplot as plt\n",
        "from matplotlib.image import imread\n",
        "import cv2\n",
        "import random\n",
        "from os import listdir\n",
        "from sklearn.preprocessing import  LabelBinarizer\n",
        "from keras.preprocessing import image\n",
        "from keras_preprocessing.image import img_to_array, array_to_img\n",
        "from keras.optimizers import Adam\n",
        "from PIL import Image\n",
        "from keras.utils import to_categorical\n",
        "from keras.models import Sequential\n",
        "from keras.callbacks import EarlyStopping\n",
        "from keras.layers import BatchNormalization\n",
        "from keras.layers import Conv2D, MaxPooling2D, AveragePooling2D,Activation, Flatten, Dropout, Dense, LeakyReLU, ReLU\n",
        "from sklearn.model_selection import train_test_split"
      ]
    },
    {
      "cell_type": "code",
      "execution_count": 2,
      "metadata": {
        "id": "mdyiHpahReF8"
      },
      "outputs": [],
      "source": [
        "#Converting Images to array \n",
        "def convert_image_to_array(image_dir):\n",
        "    try:\n",
        "        image = cv2.imread(image_dir)\n",
        "        if image is not None :\n",
        "            image = cv2.resize(image, (256,256))  \n",
        "            #image = cv2.cvtColor(image, cv2.COLOR_BGR2GRAY) \n",
        "            return img_to_array(image)\n",
        "        else :\n",
        "            return np.array([])\n",
        "    except Exception as e:\n",
        "        print(f\"Error : {e}\")\n",
        "        return None"
      ]
    },
    {
      "cell_type": "code",
      "execution_count": 3,
      "metadata": {
        "id": "cLoajsN-RmQF"
      },
      "outputs": [],
      "source": [
        "dir = \"Plant_images_pianalytix\"\n",
        "root_dir = listdir(dir)\n",
        "image_list, label_list = [], []\n",
        "all_labels = ['Corn-Common_rust', 'Potato-Early_blight', 'Tomato-Bacterial_spot']\n",
        "binary_labels = [0,1,2]\n",
        "temp = -1\n",
        "\n",
        "# Reading and converting image to numpy array\n",
        "for directory in root_dir:\n",
        "  plant_image_list = listdir(f\"{dir}/{directory}\")\n",
        "  temp += 1\n",
        "  for files in plant_image_list:\n",
        "    image_path = f\"{dir}/{directory}/{files}\"\n",
        "    image_list.append(convert_image_to_array(image_path))\n",
        "    label_list.append(binary_labels[temp])"
      ]
    },
    {
      "cell_type": "code",
      "execution_count": 4,
      "metadata": {
        "id": "VX89xh5BRmlG"
      },
      "outputs": [
        {
          "data": {
            "text/plain": [
              "0    300\n",
              "1    300\n",
              "2    300\n",
              "dtype: int64"
            ]
          },
          "execution_count": 4,
          "metadata": {},
          "output_type": "execute_result"
        }
      ],
      "source": [
        "# Visualize the number of classes count\n",
        "label_counts = pd.DataFrame(label_list).value_counts()\n",
        "label_counts.head()"
      ]
    },
    {
      "cell_type": "code",
      "execution_count": 5,
      "metadata": {
        "id": "T0Pgx3XMRoaP"
      },
      "outputs": [
        {
          "data": {
            "text/plain": [
              "(256, 256, 3)"
            ]
          },
          "execution_count": 5,
          "metadata": {},
          "output_type": "execute_result"
        }
      ],
      "source": [
        "# checking ther sahpe of the image\n",
        "image_list[0].shape"
      ]
    },
    {
      "cell_type": "code",
      "execution_count": 6,
      "metadata": {
        "id": "zJp5JRT0Rp7e"
      },
      "outputs": [
        {
          "data": {
            "text/plain": [
              "(900,)"
            ]
          },
          "execution_count": 6,
          "metadata": {},
          "output_type": "execute_result"
        }
      ],
      "source": [
        "# Checking teh length of the label list\n",
        "label_list = np.array(label_list)\n",
        "label_list.shape"
      ]
    },
    {
      "cell_type": "code",
      "execution_count": 7,
      "metadata": {
        "id": "g_aIkXkyRt2d"
      },
      "outputs": [],
      "source": [
        "# Splitting dataset into test and train\n",
        "x_train, x_test, y_train, y_test = train_test_split(image_list, label_list, test_size=0.2, random_state = 10) "
      ]
    },
    {
      "cell_type": "markdown",
      "metadata": {},
      "source": [
        "### Normalizing the Datasets"
      ]
    },
    {
      "cell_type": "code",
      "execution_count": 8,
      "metadata": {
        "id": "RhTfmSvoRt5l"
      },
      "outputs": [],
      "source": [
        "# Normalize and reshape data\n",
        "x_train = np.array(x_train, dtype=np.float16) / 225.0\n",
        "x_test = np.array(x_test, dtype=np.float16) / 225.0\n",
        "x_train = x_train.reshape( -1, 256,256,3)\n",
        "x_test = x_test.reshape( -1, 256,256,3)"
      ]
    },
    {
      "cell_type": "code",
      "execution_count": 9,
      "metadata": {
        "id": "P5GWA6z5Rxtm"
      },
      "outputs": [],
      "source": [
        "## One-hot encoding the target variable\n",
        "y_train = to_categorical(y_train)\n",
        "y_test = to_categorical(y_test)"
      ]
    },
    {
      "cell_type": "code",
      "execution_count": 10,
      "metadata": {
        "id": "iZ8NTYmfRzOS"
      },
      "outputs": [],
      "source": [
        "# Splitting the training data set into training and validation data sets\n",
        "x_train, x_val, y_train, y_val = train_test_split(x_train, y_train, test_size = 0.2)"
      ]
    },
    {
      "cell_type": "markdown",
      "metadata": {},
      "source": [
        "## Applying CNN Model"
      ]
    },
    {
      "cell_type": "code",
      "execution_count": 11,
      "metadata": {},
      "outputs": [
        {
          "name": "stdout",
          "output_type": "stream",
          "text": [
            "Model: \"sequential\"\n",
            "_________________________________________________________________\n",
            " Layer (type)                Output Shape              Param #   \n",
            "=================================================================\n",
            " conv2d (Conv2D)             (None, 256, 256, 16)      208       \n",
            "                                                                 \n",
            " activation (Activation)     (None, 256, 256, 16)      0         \n",
            "                                                                 \n",
            " max_pooling2d (MaxPooling2D  (None, 128, 128, 16)     0         \n",
            " )                                                               \n",
            "                                                                 \n",
            " conv2d_1 (Conv2D)           (None, 128, 128, 32)      2080      \n",
            "                                                                 \n",
            " max_pooling2d_1 (MaxPooling  (None, 64, 64, 32)       0         \n",
            " 2D)                                                             \n",
            "                                                                 \n",
            " flatten (Flatten)           (None, 131072)            0         \n",
            "                                                                 \n",
            " dense (Dense)               (None, 128)               16777344  \n",
            "                                                                 \n",
            " activation_1 (Activation)   (None, 128)               0         \n",
            "                                                                 \n",
            " dense_1 (Dense)             (None, 3)                 387       \n",
            "                                                                 \n",
            "=================================================================\n",
            "Total params: 16,780,019\n",
            "Trainable params: 16,780,019\n",
            "Non-trainable params: 0\n",
            "_________________________________________________________________\n"
          ]
        }
      ],
      "source": [
        "model = Sequential()\n",
        "\n",
        "model.add(Conv2D(filters=16, kernel_size=2, input_shape=(256,256,3), padding='same'))\n",
        "model.add(Activation('relu'))\n",
        "model.add(MaxPooling2D(pool_size=2))\n",
        "\n",
        "model.add(Conv2D(filters=32, kernel_size=2, activation='relu', padding='same'))\n",
        "model.add(MaxPooling2D(pool_size=2))\n",
        "\n",
        "\n",
        "model.add(Flatten())\n",
        "model.add(Dense(128))\n",
        "model.add(Activation('relu'))\n",
        "model.add(Dense(3,activation='softmax'))\n",
        "model.summary()"
      ]
    },
    {
      "cell_type": "code",
      "execution_count": 12,
      "metadata": {
        "id": "1GvVgEiXR4sy"
      },
      "outputs": [],
      "source": [
        "# Compiling model\n",
        "model.compile(loss = 'categorical_crossentropy', optimizer = 'rmsprop',metrics=['accuracy'])"
      ]
    },
    {
      "cell_type": "code",
      "execution_count": 13,
      "metadata": {
        "id": "u1I9HtY2R7R-"
      },
      "outputs": [
        {
          "name": "stdout",
          "output_type": "stream",
          "text": [
            "Epoch 1/12\n",
            "18/18 [==============================] - 11s 583ms/step - loss: 2.7420 - accuracy: 0.7309 - val_loss: 0.1137 - val_accuracy: 0.9653\n",
            "Epoch 2/12\n",
            "18/18 [==============================] - 11s 624ms/step - loss: 0.1249 - accuracy: 0.9514 - val_loss: 0.0712 - val_accuracy: 0.9792\n",
            "Epoch 3/12\n",
            "18/18 [==============================] - 12s 698ms/step - loss: 0.2245 - accuracy: 0.9340 - val_loss: 0.0366 - val_accuracy: 0.9931\n",
            "Epoch 4/12\n",
            "18/18 [==============================] - 15s 837ms/step - loss: 0.0049 - accuracy: 1.0000 - val_loss: 0.0328 - val_accuracy: 0.9931\n",
            "Epoch 5/12\n",
            "18/18 [==============================] - 14s 795ms/step - loss: 0.0016 - accuracy: 1.0000 - val_loss: 0.0340 - val_accuracy: 0.9931\n",
            "Epoch 6/12\n",
            "18/18 [==============================] - 13s 738ms/step - loss: 4.8239e-04 - accuracy: 1.0000 - val_loss: 0.0399 - val_accuracy: 0.9931\n",
            "Epoch 7/12\n",
            "18/18 [==============================] - 14s 788ms/step - loss: 0.2813 - accuracy: 0.9618 - val_loss: 0.0369 - val_accuracy: 0.9931\n"
          ]
        }
      ],
      "source": [
        "# Training the model\n",
        "epochs = 12\n",
        "batch_size = 32\n",
        "\n",
        "# Early Stopping\n",
        "callback = EarlyStopping(monitor='val_loss', patience=3)\n",
        "\n",
        "history = model.fit(x_train, y_train, batch_size = batch_size, epochs = epochs, validation_data = (x_val, y_val), callbacks = [callback])"
      ]
    },
    {
      "cell_type": "code",
      "execution_count": 14,
      "metadata": {
        "id": "RRI9dX9eSI0j"
      },
      "outputs": [
        {
          "name": "stdout",
          "output_type": "stream",
          "text": [
            "6/6 [==============================] - 1s 149ms/step - loss: 0.0345 - accuracy: 0.9889\n",
            "Test Accuracy: 98.88888597488403 %\n"
          ]
        }
      ],
      "source": [
        "# Calculating test accuracy \n",
        "scores = model.evaluate(x_test, y_test)\n",
        "print(f\"Test Accuracy: {scores[1]*100} %\")"
      ]
    },
    {
      "cell_type": "markdown",
      "metadata": {},
      "source": [
        "## Applying CNN with Different Activation Functions"
      ]
    },
    {
      "cell_type": "markdown",
      "metadata": {},
      "source": [
        "### CNN with ELU"
      ]
    },
    {
      "cell_type": "code",
      "execution_count": 15,
      "metadata": {
        "id": "I3gqSpVKSSx3"
      },
      "outputs": [
        {
          "name": "stdout",
          "output_type": "stream",
          "text": [
            "Model: \"sequential_1\"\n",
            "_________________________________________________________________\n",
            " Layer (type)                Output Shape              Param #   \n",
            "=================================================================\n",
            " conv2d_2 (Conv2D)           (None, 256, 256, 16)      208       \n",
            "                                                                 \n",
            " activation_2 (Activation)   (None, 256, 256, 16)      0         \n",
            "                                                                 \n",
            " max_pooling2d_2 (MaxPooling  (None, 128, 128, 16)     0         \n",
            " 2D)                                                             \n",
            "                                                                 \n",
            " conv2d_3 (Conv2D)           (None, 128, 128, 32)      2080      \n",
            "                                                                 \n",
            " max_pooling2d_3 (MaxPooling  (None, 64, 64, 32)       0         \n",
            " 2D)                                                             \n",
            "                                                                 \n",
            " flatten_1 (Flatten)         (None, 131072)            0         \n",
            "                                                                 \n",
            " dense_2 (Dense)             (None, 128)               16777344  \n",
            "                                                                 \n",
            " activation_3 (Activation)   (None, 128)               0         \n",
            "                                                                 \n",
            " dense_3 (Dense)             (None, 3)                 387       \n",
            "                                                                 \n",
            "=================================================================\n",
            "Total params: 16,780,019\n",
            "Trainable params: 16,780,019\n",
            "Non-trainable params: 0\n",
            "_________________________________________________________________\n"
          ]
        }
      ],
      "source": [
        "## Creating a simple CNN architecture with three convolutional layer, each followed by a max pooling layer\n",
        "\n",
        "model = Sequential()\n",
        "\n",
        "model.add(Conv2D(filters=16, kernel_size=2, input_shape=(256,256,3), padding='same'))\n",
        "model.add(Activation('elu'))\n",
        "model.add(MaxPooling2D(pool_size=2))\n",
        "\n",
        "model.add(Conv2D(filters=32, kernel_size=2, activation='elu', padding='same'))\n",
        "model.add(MaxPooling2D(pool_size=2))\n",
        "\n",
        "\n",
        "model.add(Flatten())\n",
        "model.add(Dense(128))\n",
        "model.add(Activation('elu'))\n",
        "model.add(Dense(3,activation='softmax'))\n",
        "model.summary()"
      ]
    },
    {
      "cell_type": "code",
      "execution_count": 16,
      "metadata": {},
      "outputs": [],
      "source": [
        "# Compiling model\n",
        "model.compile(loss = 'categorical_crossentropy', optimizer = 'rmsprop',metrics=['accuracy'])"
      ]
    },
    {
      "cell_type": "code",
      "execution_count": 17,
      "metadata": {},
      "outputs": [
        {
          "name": "stdout",
          "output_type": "stream",
          "text": [
            "Epoch 1/12\n",
            "18/18 [==============================] - 14s 766ms/step - loss: 10.2713 - accuracy: 0.7031 - val_loss: 4.0071 - val_accuracy: 0.6806\n",
            "Epoch 2/12\n",
            "18/18 [==============================] - 14s 788ms/step - loss: 0.8978 - accuracy: 0.8507 - val_loss: 0.0560 - val_accuracy: 0.9931\n",
            "Epoch 3/12\n",
            "18/18 [==============================] - 17s 923ms/step - loss: 0.3147 - accuracy: 0.9444 - val_loss: 0.0439 - val_accuracy: 0.9861\n",
            "Epoch 4/12\n",
            "18/18 [==============================] - 14s 783ms/step - loss: 0.5439 - accuracy: 0.9097 - val_loss: 0.1249 - val_accuracy: 0.9861\n",
            "Epoch 5/12\n",
            "18/18 [==============================] - 15s 862ms/step - loss: 0.0081 - accuracy: 1.0000 - val_loss: 0.1158 - val_accuracy: 0.9861\n",
            "Epoch 6/12\n",
            "18/18 [==============================] - 14s 767ms/step - loss: 0.3479 - accuracy: 0.9080 - val_loss: 0.0547 - val_accuracy: 0.9861\n"
          ]
        }
      ],
      "source": [
        "# Training the model\n",
        "epochs = 12\n",
        "batch_size = 32\n",
        "\n",
        "# Early Stopping\n",
        "callback = EarlyStopping(monitor='val_loss', patience=3)\n",
        "\n",
        "history = model.fit(x_train, y_train, batch_size = batch_size, epochs = epochs, validation_data = (x_val, y_val), callbacks = [callback])"
      ]
    },
    {
      "cell_type": "code",
      "execution_count": 18,
      "metadata": {},
      "outputs": [
        {
          "name": "stdout",
          "output_type": "stream",
          "text": [
            "6/6 [==============================] - 1s 169ms/step - loss: 0.0600 - accuracy: 0.9722\n",
            "Test Accuracy: 97.22222089767456 %\n"
          ]
        }
      ],
      "source": [
        "# Calculating test accuracy \n",
        "scores = model.evaluate(x_test, y_test)\n",
        "print(f\"Test Accuracy: {scores[1]*100} %\")"
      ]
    },
    {
      "cell_type": "markdown",
      "metadata": {},
      "source": [
        "### CNN with selu"
      ]
    },
    {
      "cell_type": "code",
      "execution_count": 19,
      "metadata": {},
      "outputs": [
        {
          "name": "stdout",
          "output_type": "stream",
          "text": [
            "Model: \"sequential_2\"\n",
            "_________________________________________________________________\n",
            " Layer (type)                Output Shape              Param #   \n",
            "=================================================================\n",
            " conv2d_4 (Conv2D)           (None, 256, 256, 16)      208       \n",
            "                                                                 \n",
            " activation_4 (Activation)   (None, 256, 256, 16)      0         \n",
            "                                                                 \n",
            " max_pooling2d_4 (MaxPooling  (None, 128, 128, 16)     0         \n",
            " 2D)                                                             \n",
            "                                                                 \n",
            " conv2d_5 (Conv2D)           (None, 128, 128, 32)      2080      \n",
            "                                                                 \n",
            " max_pooling2d_5 (MaxPooling  (None, 64, 64, 32)       0         \n",
            " 2D)                                                             \n",
            "                                                                 \n",
            " flatten_2 (Flatten)         (None, 131072)            0         \n",
            "                                                                 \n",
            " dense_4 (Dense)             (None, 128)               16777344  \n",
            "                                                                 \n",
            " activation_5 (Activation)   (None, 128)               0         \n",
            "                                                                 \n",
            " dense_5 (Dense)             (None, 3)                 387       \n",
            "                                                                 \n",
            "=================================================================\n",
            "Total params: 16,780,019\n",
            "Trainable params: 16,780,019\n",
            "Non-trainable params: 0\n",
            "_________________________________________________________________\n"
          ]
        }
      ],
      "source": [
        "## Creating a simple CNN architecture with three convolutional layer, each followed by a max pooling layer\n",
        "\n",
        "model = Sequential()\n",
        "\n",
        "model.add(Conv2D(filters=16, kernel_size=2, input_shape=(256,256,3), padding='same'))\n",
        "model.add(Activation('selu'))\n",
        "model.add(MaxPooling2D(pool_size=2))\n",
        "\n",
        "model.add(Conv2D(filters=32, kernel_size=2, activation='selu', padding='same'))\n",
        "model.add(MaxPooling2D(pool_size=2))\n",
        "\n",
        "\n",
        "model.add(Flatten())\n",
        "model.add(Dense(128))\n",
        "model.add(Activation('selu'))\n",
        "model.add(Dense(3,activation='softmax'))\n",
        "model.summary()"
      ]
    },
    {
      "cell_type": "code",
      "execution_count": 20,
      "metadata": {},
      "outputs": [],
      "source": [
        "# Compiling model\n",
        "model.compile(loss = 'categorical_crossentropy', optimizer = 'rmsprop',metrics=['accuracy'])"
      ]
    },
    {
      "cell_type": "code",
      "execution_count": 21,
      "metadata": {},
      "outputs": [
        {
          "name": "stdout",
          "output_type": "stream",
          "text": [
            "Epoch 1/12\n",
            "18/18 [==============================] - 18s 939ms/step - loss: 21.2330 - accuracy: 0.6111 - val_loss: 0.2773 - val_accuracy: 0.9236\n",
            "Epoch 2/12\n",
            "18/18 [==============================] - 16s 907ms/step - loss: 0.3019 - accuracy: 0.9288 - val_loss: 0.2815 - val_accuracy: 0.9375\n",
            "Epoch 3/12\n",
            "18/18 [==============================] - 17s 927ms/step - loss: 0.1205 - accuracy: 0.9514 - val_loss: 0.3493 - val_accuracy: 0.8819\n",
            "Epoch 4/12\n",
            "18/18 [==============================] - 15s 816ms/step - loss: 0.5466 - accuracy: 0.8767 - val_loss: 0.8096 - val_accuracy: 0.7361\n"
          ]
        }
      ],
      "source": [
        "# Training the model\n",
        "epochs = 12\n",
        "batch_size = 32\n",
        "\n",
        "# Early Stopping\n",
        "callback = EarlyStopping(monitor='val_loss', patience=3)\n",
        "\n",
        "history = model.fit(x_train, y_train, batch_size = batch_size, epochs = epochs, validation_data = (x_val, y_val), callbacks = [callback])"
      ]
    },
    {
      "cell_type": "code",
      "execution_count": 22,
      "metadata": {},
      "outputs": [
        {
          "name": "stdout",
          "output_type": "stream",
          "text": [
            "6/6 [==============================] - 1s 146ms/step - loss: 0.7461 - accuracy: 0.7222\n",
            "Test Accuracy: 72.22222089767456 %\n"
          ]
        }
      ],
      "source": [
        "# Calculating test accuracy \n",
        "scores = model.evaluate(x_test, y_test)\n",
        "print(f\"Test Accuracy: {scores[1]*100} %\")"
      ]
    },
    {
      "cell_type": "markdown",
      "metadata": {},
      "source": [
        "## Using Average Pooling between Layers"
      ]
    },
    {
      "cell_type": "markdown",
      "metadata": {},
      "source": [
        "### CNN with Relu"
      ]
    },
    {
      "cell_type": "code",
      "execution_count": 23,
      "metadata": {},
      "outputs": [
        {
          "name": "stdout",
          "output_type": "stream",
          "text": [
            "Model: \"sequential_3\"\n",
            "_________________________________________________________________\n",
            " Layer (type)                Output Shape              Param #   \n",
            "=================================================================\n",
            " conv2d_6 (Conv2D)           (None, 256, 256, 16)      208       \n",
            "                                                                 \n",
            " activation_6 (Activation)   (None, 256, 256, 16)      0         \n",
            "                                                                 \n",
            " average_pooling2d (AverageP  (None, 128, 128, 16)     0         \n",
            " ooling2D)                                                       \n",
            "                                                                 \n",
            " conv2d_7 (Conv2D)           (None, 128, 128, 32)      2080      \n",
            "                                                                 \n",
            " average_pooling2d_1 (Averag  (None, 64, 64, 32)       0         \n",
            " ePooling2D)                                                     \n",
            "                                                                 \n",
            " flatten_3 (Flatten)         (None, 131072)            0         \n",
            "                                                                 \n",
            " dense_6 (Dense)             (None, 128)               16777344  \n",
            "                                                                 \n",
            " activation_7 (Activation)   (None, 128)               0         \n",
            "                                                                 \n",
            " dense_7 (Dense)             (None, 3)                 387       \n",
            "                                                                 \n",
            "=================================================================\n",
            "Total params: 16,780,019\n",
            "Trainable params: 16,780,019\n",
            "Non-trainable params: 0\n",
            "_________________________________________________________________\n"
          ]
        }
      ],
      "source": [
        "## Creating a simple CNN architecture with three convolutional layer, each followed by a average pooling layer\n",
        "\n",
        "model = Sequential()\n",
        "\n",
        "model.add(Conv2D(filters=16, kernel_size=2, input_shape=(256,256,3), padding='same'))\n",
        "model.add(Activation('relu'))\n",
        "model.add(AveragePooling2D(pool_size=2))\n",
        "\n",
        "model.add(Conv2D(filters=32, kernel_size=2, activation='relu', padding='same'))\n",
        "model.add(AveragePooling2D(pool_size=2))\n",
        "\n",
        "\n",
        "model.add(Flatten())\n",
        "model.add(Dense(128))\n",
        "model.add(Activation('relu'))\n",
        "model.add(Dense(3,activation='softmax'))\n",
        "model.summary()"
      ]
    },
    {
      "cell_type": "code",
      "execution_count": 24,
      "metadata": {},
      "outputs": [],
      "source": [
        "# Compiling model\n",
        "model.compile(loss = 'categorical_crossentropy', optimizer = 'rmsprop',metrics=['accuracy'])"
      ]
    },
    {
      "cell_type": "code",
      "execution_count": 25,
      "metadata": {},
      "outputs": [
        {
          "name": "stdout",
          "output_type": "stream",
          "text": [
            "Epoch 1/12\n",
            "18/18 [==============================] - 10s 548ms/step - loss: 3.7573 - accuracy: 0.6979 - val_loss: 0.2006 - val_accuracy: 0.9167\n",
            "Epoch 2/12\n",
            "18/18 [==============================] - 9s 524ms/step - loss: 0.5716 - accuracy: 0.8663 - val_loss: 0.3109 - val_accuracy: 0.9097\n",
            "Epoch 3/12\n",
            "18/18 [==============================] - 10s 537ms/step - loss: 0.3361 - accuracy: 0.9358 - val_loss: 0.0685 - val_accuracy: 0.9722\n",
            "Epoch 4/12\n",
            "18/18 [==============================] - 10s 585ms/step - loss: 0.0431 - accuracy: 0.9913 - val_loss: 0.0694 - val_accuracy: 0.9722\n",
            "Epoch 5/12\n",
            "18/18 [==============================] - 11s 612ms/step - loss: 0.1090 - accuracy: 0.9705 - val_loss: 0.0830 - val_accuracy: 0.9722\n",
            "Epoch 6/12\n",
            "18/18 [==============================] - 11s 632ms/step - loss: 0.0119 - accuracy: 0.9965 - val_loss: 0.0467 - val_accuracy: 0.9861\n",
            "Epoch 7/12\n",
            "18/18 [==============================] - 11s 632ms/step - loss: 0.0955 - accuracy: 0.9792 - val_loss: 0.0423 - val_accuracy: 0.9861\n",
            "Epoch 8/12\n",
            "18/18 [==============================] - 11s 633ms/step - loss: 0.0132 - accuracy: 0.9948 - val_loss: 0.0387 - val_accuracy: 0.9931\n",
            "Epoch 9/12\n",
            "18/18 [==============================] - 11s 620ms/step - loss: 0.0015 - accuracy: 1.0000 - val_loss: 0.0377 - val_accuracy: 0.9931\n",
            "Epoch 10/12\n",
            "18/18 [==============================] - 11s 629ms/step - loss: 6.4080e-04 - accuracy: 1.0000 - val_loss: 0.0409 - val_accuracy: 0.9861\n",
            "Epoch 11/12\n",
            "18/18 [==============================] - 10s 575ms/step - loss: 0.1727 - accuracy: 0.9774 - val_loss: 0.2295 - val_accuracy: 0.9375\n",
            "Epoch 12/12\n",
            "18/18 [==============================] - 12s 652ms/step - loss: 0.0133 - accuracy: 0.9965 - val_loss: 0.0341 - val_accuracy: 0.9861\n"
          ]
        }
      ],
      "source": [
        "# Training the model\n",
        "epochs = 12\n",
        "batch_size = 32\n",
        "\n",
        "# Early Stopping\n",
        "callback = EarlyStopping(monitor='val_loss', patience=3)\n",
        "\n",
        "history = model.fit(x_train, y_train, batch_size = batch_size, epochs = epochs, validation_data = (x_val, y_val), callbacks = [callback])"
      ]
    },
    {
      "cell_type": "code",
      "execution_count": 26,
      "metadata": {},
      "outputs": [
        {
          "name": "stdout",
          "output_type": "stream",
          "text": [
            "6/6 [==============================] - 1s 168ms/step - loss: 0.0077 - accuracy: 1.0000\n",
            "Test Accuracy: 100.0 %\n"
          ]
        }
      ],
      "source": [
        "# Calculating test accuracy \n",
        "scores = model.evaluate(x_test, y_test)\n",
        "print(f\"Test Accuracy: {scores[1]*100} %\")"
      ]
    },
    {
      "cell_type": "markdown",
      "metadata": {},
      "source": [
        "### CNN with ELU"
      ]
    },
    {
      "cell_type": "code",
      "execution_count": 27,
      "metadata": {},
      "outputs": [
        {
          "name": "stdout",
          "output_type": "stream",
          "text": [
            "Model: \"sequential_4\"\n",
            "_________________________________________________________________\n",
            " Layer (type)                Output Shape              Param #   \n",
            "=================================================================\n",
            " conv2d_8 (Conv2D)           (None, 256, 256, 16)      208       \n",
            "                                                                 \n",
            " activation_8 (Activation)   (None, 256, 256, 16)      0         \n",
            "                                                                 \n",
            " average_pooling2d_2 (Averag  (None, 128, 128, 16)     0         \n",
            " ePooling2D)                                                     \n",
            "                                                                 \n",
            " conv2d_9 (Conv2D)           (None, 128, 128, 32)      2080      \n",
            "                                                                 \n",
            " average_pooling2d_3 (Averag  (None, 64, 64, 32)       0         \n",
            " ePooling2D)                                                     \n",
            "                                                                 \n",
            " flatten_4 (Flatten)         (None, 131072)            0         \n",
            "                                                                 \n",
            " dense_8 (Dense)             (None, 128)               16777344  \n",
            "                                                                 \n",
            " activation_9 (Activation)   (None, 128)               0         \n",
            "                                                                 \n",
            " dense_9 (Dense)             (None, 3)                 387       \n",
            "                                                                 \n",
            "=================================================================\n",
            "Total params: 16,780,019\n",
            "Trainable params: 16,780,019\n",
            "Non-trainable params: 0\n",
            "_________________________________________________________________\n"
          ]
        }
      ],
      "source": [
        "## Creating a simple CNN architecture with three convolutional layer, each followed by a average pooling layer\n",
        "\n",
        "model = Sequential()\n",
        "\n",
        "model.add(Conv2D(filters=16, kernel_size=2, input_shape=(256,256,3), padding='same'))\n",
        "model.add(Activation('elu'))\n",
        "model.add(AveragePooling2D(pool_size=2))\n",
        "\n",
        "model.add(Conv2D(filters=32, kernel_size=2, activation='elu', padding='same'))\n",
        "model.add(AveragePooling2D(pool_size=2))\n",
        "\n",
        "\n",
        "model.add(Flatten())\n",
        "model.add(Dense(128))\n",
        "model.add(Activation('elu'))\n",
        "model.add(Dense(3,activation='softmax'))\n",
        "model.summary()"
      ]
    },
    {
      "cell_type": "code",
      "execution_count": 28,
      "metadata": {},
      "outputs": [],
      "source": [
        "# Compiling model\n",
        "model.compile(loss = 'categorical_crossentropy', optimizer = 'rmsprop',metrics=['accuracy'])"
      ]
    },
    {
      "cell_type": "code",
      "execution_count": 29,
      "metadata": {},
      "outputs": [
        {
          "name": "stdout",
          "output_type": "stream",
          "text": [
            "Epoch 1/12\n",
            "18/18 [==============================] - 15s 802ms/step - loss: 15.0437 - accuracy: 0.5608 - val_loss: 0.9431 - val_accuracy: 0.7153\n",
            "Epoch 2/12\n",
            "18/18 [==============================] - 14s 775ms/step - loss: 0.7397 - accuracy: 0.8125 - val_loss: 4.6205 - val_accuracy: 0.3056\n",
            "Epoch 3/12\n",
            "18/18 [==============================] - 13s 739ms/step - loss: 0.4305 - accuracy: 0.8837 - val_loss: 0.0489 - val_accuracy: 0.9861\n",
            "Epoch 4/12\n",
            "18/18 [==============================] - 14s 783ms/step - loss: 0.0317 - accuracy: 0.9913 - val_loss: 0.0522 - val_accuracy: 0.9792\n",
            "Epoch 5/12\n",
            "18/18 [==============================] - 13s 703ms/step - loss: 6.4322 - accuracy: 0.8247 - val_loss: 0.0918 - val_accuracy: 0.9792\n",
            "Epoch 6/12\n",
            "18/18 [==============================] - 11s 618ms/step - loss: 0.0225 - accuracy: 0.9931 - val_loss: 0.0409 - val_accuracy: 0.9792\n",
            "Epoch 7/12\n",
            "18/18 [==============================] - 11s 597ms/step - loss: 0.1052 - accuracy: 0.9618 - val_loss: 0.4577 - val_accuracy: 0.8472\n",
            "Epoch 8/12\n",
            "18/18 [==============================] - 12s 667ms/step - loss: 0.4348 - accuracy: 0.9531 - val_loss: 2.1730 - val_accuracy: 0.6528\n",
            "Epoch 9/12\n",
            "18/18 [==============================] - 11s 633ms/step - loss: 0.2629 - accuracy: 0.9549 - val_loss: 0.0423 - val_accuracy: 0.9722\n"
          ]
        }
      ],
      "source": [
        "# Training the model\n",
        "epochs = 12\n",
        "batch_size = 32\n",
        "\n",
        "# Early Stopping\n",
        "callback = EarlyStopping(monitor='val_loss', patience=3)\n",
        "\n",
        "history = model.fit(x_train, y_train, batch_size = batch_size, epochs = epochs, validation_data = (x_val, y_val), callbacks = [callback])"
      ]
    },
    {
      "cell_type": "code",
      "execution_count": 30,
      "metadata": {},
      "outputs": [
        {
          "name": "stdout",
          "output_type": "stream",
          "text": [
            "6/6 [==============================] - 1s 218ms/step - loss: 0.0248 - accuracy: 0.9889\n",
            "Test Accuracy: 98.88888597488403 %\n"
          ]
        }
      ],
      "source": [
        "# Calculating test accuracy \n",
        "scores = model.evaluate(x_test, y_test)\n",
        "print(f\"Test Accuracy: {scores[1]*100} %\")"
      ]
    },
    {
      "cell_type": "markdown",
      "metadata": {},
      "source": [
        "### CNN with SELU"
      ]
    },
    {
      "cell_type": "code",
      "execution_count": 31,
      "metadata": {},
      "outputs": [
        {
          "name": "stdout",
          "output_type": "stream",
          "text": [
            "Model: \"sequential_5\"\n",
            "_________________________________________________________________\n",
            " Layer (type)                Output Shape              Param #   \n",
            "=================================================================\n",
            " conv2d_10 (Conv2D)          (None, 256, 256, 16)      208       \n",
            "                                                                 \n",
            " activation_10 (Activation)  (None, 256, 256, 16)      0         \n",
            "                                                                 \n",
            " average_pooling2d_4 (Averag  (None, 128, 128, 16)     0         \n",
            " ePooling2D)                                                     \n",
            "                                                                 \n",
            " conv2d_11 (Conv2D)          (None, 128, 128, 32)      2080      \n",
            "                                                                 \n",
            " average_pooling2d_5 (Averag  (None, 64, 64, 32)       0         \n",
            " ePooling2D)                                                     \n",
            "                                                                 \n",
            " flatten_5 (Flatten)         (None, 131072)            0         \n",
            "                                                                 \n",
            " dense_10 (Dense)            (None, 128)               16777344  \n",
            "                                                                 \n",
            " activation_11 (Activation)  (None, 128)               0         \n",
            "                                                                 \n",
            " dense_11 (Dense)            (None, 3)                 387       \n",
            "                                                                 \n",
            "=================================================================\n",
            "Total params: 16,780,019\n",
            "Trainable params: 16,780,019\n",
            "Non-trainable params: 0\n",
            "_________________________________________________________________\n"
          ]
        }
      ],
      "source": [
        "## Creating a simple CNN architecture with three convolutional layer, each followed by a average pooling layer\n",
        "\n",
        "model = Sequential()\n",
        "\n",
        "model.add(Conv2D(filters=16, kernel_size=2, input_shape=(256,256,3), padding='same'))\n",
        "model.add(Activation('selu'))\n",
        "model.add(AveragePooling2D(pool_size=2))\n",
        "\n",
        "model.add(Conv2D(filters=32, kernel_size=2, activation='selu', padding='same'))\n",
        "model.add(AveragePooling2D(pool_size=2))\n",
        "\n",
        "\n",
        "model.add(Flatten())\n",
        "model.add(Dense(128))\n",
        "model.add(Activation('selu'))\n",
        "model.add(Dense(3,activation='softmax'))\n",
        "model.summary()"
      ]
    },
    {
      "cell_type": "code",
      "execution_count": 32,
      "metadata": {},
      "outputs": [],
      "source": [
        "# Compiling model\n",
        "model.compile(loss = 'categorical_crossentropy', optimizer = 'rmsprop',metrics=['accuracy'])"
      ]
    },
    {
      "cell_type": "code",
      "execution_count": 33,
      "metadata": {},
      "outputs": [
        {
          "name": "stdout",
          "output_type": "stream",
          "text": [
            "Epoch 1/12\n",
            "18/18 [==============================] - 14s 726ms/step - loss: 44.4798 - accuracy: 0.3733 - val_loss: 0.6455 - val_accuracy: 0.8125\n",
            "Epoch 2/12\n",
            "18/18 [==============================] - 12s 663ms/step - loss: 1.3000 - accuracy: 0.7292 - val_loss: 0.2641 - val_accuracy: 0.9306\n",
            "Epoch 3/12\n",
            "18/18 [==============================] - 12s 648ms/step - loss: 0.4836 - accuracy: 0.8299 - val_loss: 0.1476 - val_accuracy: 0.9444\n",
            "Epoch 4/12\n",
            "18/18 [==============================] - 11s 622ms/step - loss: 0.3996 - accuracy: 0.8403 - val_loss: 0.0973 - val_accuracy: 0.9653\n",
            "Epoch 5/12\n",
            "18/18 [==============================] - 12s 648ms/step - loss: 0.3616 - accuracy: 0.8872 - val_loss: 3.7522 - val_accuracy: 0.6528\n",
            "Epoch 6/12\n",
            "18/18 [==============================] - 17s 948ms/step - loss: 1.3445 - accuracy: 0.8646 - val_loss: 0.1107 - val_accuracy: 0.9583\n",
            "Epoch 7/12\n",
            "18/18 [==============================] - 16s 896ms/step - loss: 0.0594 - accuracy: 0.9878 - val_loss: 0.0259 - val_accuracy: 0.9931\n",
            "Epoch 8/12\n",
            "18/18 [==============================] - 14s 793ms/step - loss: 0.9156 - accuracy: 0.9444 - val_loss: 0.8230 - val_accuracy: 0.8750\n",
            "Epoch 9/12\n",
            "18/18 [==============================] - 13s 721ms/step - loss: 0.0708 - accuracy: 0.9844 - val_loss: 0.0457 - val_accuracy: 0.9861\n",
            "Epoch 10/12\n",
            "18/18 [==============================] - 11s 621ms/step - loss: 0.0270 - accuracy: 0.9896 - val_loss: 0.1332 - val_accuracy: 0.9444\n"
          ]
        }
      ],
      "source": [
        "# Training the model\n",
        "epochs = 12\n",
        "batch_size = 32\n",
        "\n",
        "# Early Stopping\n",
        "callback = EarlyStopping(monitor='val_loss', patience=3)\n",
        "\n",
        "history = model.fit(x_train, y_train, batch_size = batch_size, epochs = epochs, validation_data = (x_val, y_val), callbacks = [callback])"
      ]
    },
    {
      "cell_type": "code",
      "execution_count": 34,
      "metadata": {},
      "outputs": [
        {
          "name": "stdout",
          "output_type": "stream",
          "text": [
            "6/6 [==============================] - 1s 195ms/step - loss: 0.1950 - accuracy: 0.9556\n",
            "Test Accuracy: 95.55555582046509 %\n"
          ]
        }
      ],
      "source": [
        "# Calculating test accuracy \n",
        "scores = model.evaluate(x_test, y_test)\n",
        "print(f\"Test Accuracy: {scores[1]*100} %\")"
      ]
    },
    {
      "cell_type": "markdown",
      "metadata": {},
      "source": [
        "## Using different Architecture"
      ]
    },
    {
      "cell_type": "markdown",
      "metadata": {},
      "source": [
        "### LeNet Architecture"
      ]
    },
    {
      "cell_type": "code",
      "execution_count": 59,
      "metadata": {},
      "outputs": [
        {
          "name": "stdout",
          "output_type": "stream",
          "text": [
            "Model: \"sequential_12\"\n",
            "_________________________________________________________________\n",
            " Layer (type)                Output Shape              Param #   \n",
            "=================================================================\n",
            " conv2d_24 (Conv2D)          (None, 254, 254, 6)       168       \n",
            "                                                                 \n",
            " average_pooling2d_12 (Avera  (None, 127, 127, 6)      0         \n",
            " gePooling2D)                                                    \n",
            "                                                                 \n",
            " conv2d_25 (Conv2D)          (None, 125, 125, 16)      880       \n",
            "                                                                 \n",
            " average_pooling2d_13 (Avera  (None, 62, 62, 16)       0         \n",
            " gePooling2D)                                                    \n",
            "                                                                 \n",
            " flatten_12 (Flatten)        (None, 61504)             0         \n",
            "                                                                 \n",
            " dense_24 (Dense)            (None, 120)               7380600   \n",
            "                                                                 \n",
            " dense_25 (Dense)            (None, 84)                10164     \n",
            "                                                                 \n",
            " dense_26 (Dense)            (None, 3)                 255       \n",
            "                                                                 \n",
            "=================================================================\n",
            "Total params: 7,392,067\n",
            "Trainable params: 7,392,067\n",
            "Non-trainable params: 0\n",
            "_________________________________________________________________\n"
          ]
        }
      ],
      "source": [
        "model = Sequential()\n",
        "\n",
        "model.add(Conv2D(filters=6, kernel_size=(3, 3), activation='relu', input_shape=(256,256,3)))\n",
        "model.add(AveragePooling2D())\n",
        "\n",
        "model.add(Conv2D(filters=16, kernel_size=(3, 3), activation='relu'))\n",
        "model.add(AveragePooling2D())\n",
        "\n",
        "model.add(Flatten())\n",
        "model.add(Dense(units=120, activation='relu'))\n",
        "model.add(Dense(units=84, activation='relu'))\n",
        "model.add(Dense(3, activation = 'softmax'))\n",
        "model.summary()"
      ]
    },
    {
      "cell_type": "code",
      "execution_count": 60,
      "metadata": {},
      "outputs": [],
      "source": [
        "# Compiling model\n",
        "model.compile(loss = 'categorical_crossentropy', optimizer = 'adam',metrics=['accuracy'])"
      ]
    },
    {
      "cell_type": "code",
      "execution_count": 61,
      "metadata": {},
      "outputs": [
        {
          "name": "stdout",
          "output_type": "stream",
          "text": [
            "Epoch 1/50\n",
            "18/18 [==============================] - 10s 479ms/step - loss: 0.6747 - accuracy: 0.7205 - val_loss: 0.2241 - val_accuracy: 0.9514\n",
            "Epoch 2/50\n",
            "18/18 [==============================] - 8s 441ms/step - loss: 0.1391 - accuracy: 0.9583 - val_loss: 0.1316 - val_accuracy: 0.9514\n",
            "Epoch 3/50\n",
            "18/18 [==============================] - 8s 443ms/step - loss: 0.0647 - accuracy: 0.9774 - val_loss: 0.0617 - val_accuracy: 0.9861\n",
            "Epoch 4/50\n",
            "18/18 [==============================] - 8s 441ms/step - loss: 0.0207 - accuracy: 0.9965 - val_loss: 0.0533 - val_accuracy: 0.9861\n",
            "Epoch 5/50\n",
            "18/18 [==============================] - 8s 443ms/step - loss: 0.0087 - accuracy: 0.9983 - val_loss: 0.0481 - val_accuracy: 0.9861\n",
            "Epoch 6/50\n",
            "18/18 [==============================] - 8s 440ms/step - loss: 0.0033 - accuracy: 1.0000 - val_loss: 0.0525 - val_accuracy: 0.9861\n",
            "Epoch 7/50\n",
            "18/18 [==============================] - 8s 436ms/step - loss: 8.1254e-04 - accuracy: 1.0000 - val_loss: 0.0644 - val_accuracy: 0.9861\n",
            "Epoch 8/50\n",
            "18/18 [==============================] - 8s 435ms/step - loss: 4.2976e-04 - accuracy: 1.0000 - val_loss: 0.0627 - val_accuracy: 0.9861\n"
          ]
        }
      ],
      "source": [
        "# Training the model\n",
        "epochs = 50\n",
        "batch_size = 32\n",
        "\n",
        "# Early Stopping\n",
        "callback = EarlyStopping(monitor='val_loss', patience=3)\n",
        "\n",
        "history = model.fit(x_train, y_train, batch_size = batch_size, epochs = epochs, validation_data = (x_val, y_val), callbacks = [callback])"
      ]
    },
    {
      "cell_type": "code",
      "execution_count": 62,
      "metadata": {},
      "outputs": [
        {
          "name": "stdout",
          "output_type": "stream",
          "text": [
            "6/6 [==============================] - 1s 120ms/step - loss: 0.0195 - accuracy: 0.9833\n",
            "Test Accuracy: 98.33333492279053 %\n"
          ]
        }
      ],
      "source": [
        "# Calculating test accuracy \n",
        "scores = model.evaluate(x_test, y_test)\n",
        "print(f\"Test Accuracy: {scores[1]*100} %\")"
      ]
    },
    {
      "cell_type": "markdown",
      "metadata": {},
      "source": [
        "### AlexNet Architecture"
      ]
    },
    {
      "cell_type": "code",
      "execution_count": 63,
      "metadata": {},
      "outputs": [],
      "source": [
        "model = Sequential()\n",
        "\n",
        "model.add(Conv2D(filters=96, kernel_size=(11, 11), strides=(4, 4), activation=\"relu\", input_shape=(256,256, 3)))\n",
        "model.add(BatchNormalization())\n",
        "model.add(MaxPooling2D(pool_size=(3, 3), strides= (2, 2)))\n",
        "\n",
        "model.add(Conv2D(filters=256, kernel_size=(5, 5), strides=(1, 1), activation=\"relu\", padding=\"same\"))\n",
        "model.add(BatchNormalization())\n",
        "model.add(MaxPooling2D(pool_size=(3, 3), strides=(2, 2)))\n",
        "\n",
        "model.add(Conv2D(filters=384, kernel_size=(3, 3), strides=(1, 1), activation=\"relu\", padding=\"same\"))\n",
        "model.add(BatchNormalization())\n",
        "\n",
        "model.add(Conv2D(filters=384, kernel_size=(3, 3), strides=(1, 1), activation=\"relu\", padding=\"same\"))\n",
        "model.add(BatchNormalization())\n",
        "\n",
        "model.add(Conv2D(filters=256, kernel_size=(3, 3), strides=(1, 1), activation=\"relu\", padding=\"same\"))\n",
        "model.add(BatchNormalization())\n",
        "model.add(MaxPooling2D(pool_size=(3, 3), strides=(2, 2)))\n",
        "\n",
        "model.add(Flatten())\n",
        "model.add(Dense(4096, activation=\"relu\"))\n",
        "model.add(Dropout(0.5))\n",
        "model.add(Dense(3, activation=\"softmax\"))"
      ]
    },
    {
      "cell_type": "code",
      "execution_count": 64,
      "metadata": {},
      "outputs": [],
      "source": [
        "# Compiling model\n",
        "model.compile(loss = 'categorical_crossentropy', optimizer = 'adam',metrics=['accuracy'])"
      ]
    },
    {
      "cell_type": "code",
      "execution_count": 65,
      "metadata": {},
      "outputs": [
        {
          "name": "stdout",
          "output_type": "stream",
          "text": [
            "Epoch 1/12\n",
            "18/18 [==============================] - 37s 2s/step - loss: 4.5139 - accuracy: 0.8646 - val_loss: 2795.9429 - val_accuracy: 0.3056\n",
            "Epoch 2/12\n",
            "18/18 [==============================] - 36s 2s/step - loss: 4.5631 - accuracy: 0.9566 - val_loss: 2326.1111 - val_accuracy: 0.3056\n",
            "Epoch 3/12\n",
            "18/18 [==============================] - 37s 2s/step - loss: 1.2404 - accuracy: 0.9635 - val_loss: 324.9420 - val_accuracy: 0.4375\n",
            "Epoch 4/12\n",
            "18/18 [==============================] - 36s 2s/step - loss: 1.6752 - accuracy: 0.9740 - val_loss: 111.5938 - val_accuracy: 0.3750\n",
            "Epoch 5/12\n",
            "18/18 [==============================] - 36s 2s/step - loss: 0.7728 - accuracy: 0.9774 - val_loss: 73.7565 - val_accuracy: 0.5069\n",
            "Epoch 6/12\n",
            "18/18 [==============================] - 36s 2s/step - loss: 0.4191 - accuracy: 0.9809 - val_loss: 5.9523 - val_accuracy: 0.7778\n",
            "Epoch 7/12\n",
            "18/18 [==============================] - 36s 2s/step - loss: 0.3432 - accuracy: 0.9809 - val_loss: 17.5964 - val_accuracy: 0.6667\n",
            "Epoch 8/12\n",
            "18/18 [==============================] - 37s 2s/step - loss: 1.0761 - accuracy: 0.9757 - val_loss: 30.5244 - val_accuracy: 0.6944\n",
            "Epoch 9/12\n",
            "18/18 [==============================] - 36s 2s/step - loss: 1.5668 - accuracy: 0.9635 - val_loss: 78.7538 - val_accuracy: 0.6667\n"
          ]
        }
      ],
      "source": [
        "# Training the model\n",
        "epochs = 12\n",
        "batch_size = 32\n",
        "\n",
        "# Early Stopping\n",
        "callback = EarlyStopping(monitor='val_loss', patience=3)\n",
        "\n",
        "history = model.fit(x_train, y_train, batch_size = batch_size, epochs = epochs, validation_data = (x_val, y_val), callbacks = [callback])"
      ]
    },
    {
      "cell_type": "code",
      "execution_count": 66,
      "metadata": {},
      "outputs": [
        {
          "name": "stdout",
          "output_type": "stream",
          "text": [
            "6/6 [==============================] - 2s 406ms/step - loss: 78.6642 - accuracy: 0.6556\n",
            "Test Accuracy: 65.55555462837219 %\n"
          ]
        }
      ],
      "source": [
        "# Calculating test accuracy \n",
        "scores = model.evaluate(x_test, y_test)\n",
        "print(f\"Test Accuracy: {scores[1]*100} %\")"
      ]
    },
    {
      "cell_type": "code",
      "execution_count": null,
      "metadata": {},
      "outputs": [],
      "source": []
    }
  ],
  "metadata": {
    "accelerator": "GPU",
    "colab": {
      "collapsed_sections": [],
      "name": "Intel Image Classification.ipynb",
      "provenance": []
    },
    "kernelspec": {
      "display_name": "Python 3.9.7 64-bit",
      "language": "python",
      "name": "python3"
    },
    "language_info": {
      "codemirror_mode": {
        "name": "ipython",
        "version": 3
      },
      "file_extension": ".py",
      "mimetype": "text/x-python",
      "name": "python",
      "nbconvert_exporter": "python",
      "pygments_lexer": "ipython3",
      "version": "3.9.7"
    },
    "vscode": {
      "interpreter": {
        "hash": "95f57ecaf1e4684a97728584cbdcdcfb0a14de4fde6afb1e55592db96a99a5c0"
      }
    }
  },
  "nbformat": 4,
  "nbformat_minor": 0
}
