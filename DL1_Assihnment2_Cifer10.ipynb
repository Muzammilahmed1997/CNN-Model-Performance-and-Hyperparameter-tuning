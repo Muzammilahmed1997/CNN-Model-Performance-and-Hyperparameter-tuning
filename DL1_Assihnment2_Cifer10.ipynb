{
 "cells": [
  {
   "cell_type": "markdown",
   "metadata": {},
   "source": [
    "## Importing Libraries"
   ]
  },
  {
   "cell_type": "code",
   "execution_count": 27,
   "metadata": {},
   "outputs": [],
   "source": [
    "import tensorflow as tf\n",
    "from tensorflow.keras.models import Sequential\n",
    "from tensorflow.keras.layers import Conv2D, MaxPooling2D, Dense, Flatten, Dropout, BatchNormalization, Activation,AveragePooling2D\n",
    "import numpy as np\n",
    "import pandas as pd\n",
    "from matplotlib import pyplot as plt\n",
    "from keras.datasets import cifar10,fashion_mnist\n",
    "from tensorflow.keras import datasets, layers, models\n",
    "from sklearn.metrics import confusion_matrix , classification_report"
   ]
  },
  {
   "cell_type": "markdown",
   "metadata": {},
   "source": [
    "## Dataset 1 : CIFAR10"
   ]
  },
  {
   "cell_type": "code",
   "execution_count": 2,
   "metadata": {},
   "outputs": [],
   "source": [
    "(trainX, trainy), (testX, testy)=tf.keras.datasets.cifar10.load_data()"
   ]
  },
  {
   "cell_type": "code",
   "execution_count": 3,
   "metadata": {},
   "outputs": [
    {
     "name": "stdout",
     "output_type": "stream",
     "text": [
      "Shape of TrainX: (50000, 32, 32, 3)\n",
      "Shape of Trainy: (50000, 1)\n",
      "Shape of TestX: (10000, 32, 32, 3)\n",
      "Shape of Testy: (10000, 1)\n"
     ]
    }
   ],
   "source": [
    "print(\"Shape of TrainX:\", trainX.shape)\n",
    "print(\"Shape of Trainy:\", trainy.shape)\n",
    "print(\"Shape of TestX:\", testX.shape)\n",
    "print(\"Shape of Testy:\", testy.shape)"
   ]
  },
  {
   "cell_type": "code",
   "execution_count": 4,
   "metadata": {},
   "outputs": [
    {
     "data": {
      "text/plain": [
       "array([[[154, 177, 187],\n",
       "        [126, 137, 136],\n",
       "        [105, 104,  95],\n",
       "        ...,\n",
       "        [ 91,  95,  71],\n",
       "        [ 87,  90,  71],\n",
       "        [ 79,  81,  70]],\n",
       "\n",
       "       [[140, 160, 169],\n",
       "        [145, 153, 154],\n",
       "        [125, 125, 118],\n",
       "        ...,\n",
       "        [ 96,  99,  78],\n",
       "        [ 77,  80,  62],\n",
       "        [ 71,  73,  61]],\n",
       "\n",
       "       [[140, 155, 164],\n",
       "        [139, 146, 149],\n",
       "        [115, 115, 112],\n",
       "        ...,\n",
       "        [ 79,  82,  64],\n",
       "        [ 68,  70,  55],\n",
       "        [ 67,  69,  55]],\n",
       "\n",
       "       ...,\n",
       "\n",
       "       [[175, 167, 166],\n",
       "        [156, 154, 160],\n",
       "        [154, 160, 170],\n",
       "        ...,\n",
       "        [ 42,  34,  36],\n",
       "        [ 61,  53,  57],\n",
       "        [ 93,  83,  91]],\n",
       "\n",
       "       [[165, 154, 128],\n",
       "        [156, 152, 130],\n",
       "        [159, 161, 142],\n",
       "        ...,\n",
       "        [103,  93,  96],\n",
       "        [123, 114, 120],\n",
       "        [131, 121, 131]],\n",
       "\n",
       "       [[163, 148, 120],\n",
       "        [158, 148, 122],\n",
       "        [163, 156, 133],\n",
       "        ...,\n",
       "        [143, 133, 139],\n",
       "        [143, 134, 142],\n",
       "        [143, 133, 144]]], dtype=uint8)"
      ]
     },
     "execution_count": 4,
     "metadata": {},
     "output_type": "execute_result"
    }
   ],
   "source": [
    "trainX[1,:]"
   ]
  },
  {
   "cell_type": "markdown",
   "metadata": {},
   "source": [
    "### Normalizing Dataset"
   ]
  },
  {
   "cell_type": "code",
   "execution_count": 5,
   "metadata": {},
   "outputs": [],
   "source": [
    "trainX = trainX/255.0\n",
    "testX = testX/255.0"
   ]
  },
  {
   "cell_type": "code",
   "execution_count": 6,
   "metadata": {},
   "outputs": [
    {
     "data": {
      "text/plain": [
       "array([[[0.60392157, 0.69411765, 0.73333333],\n",
       "        [0.49411765, 0.5372549 , 0.53333333],\n",
       "        [0.41176471, 0.40784314, 0.37254902],\n",
       "        ...,\n",
       "        [0.35686275, 0.37254902, 0.27843137],\n",
       "        [0.34117647, 0.35294118, 0.27843137],\n",
       "        [0.30980392, 0.31764706, 0.2745098 ]],\n",
       "\n",
       "       [[0.54901961, 0.62745098, 0.6627451 ],\n",
       "        [0.56862745, 0.6       , 0.60392157],\n",
       "        [0.49019608, 0.49019608, 0.4627451 ],\n",
       "        ...,\n",
       "        [0.37647059, 0.38823529, 0.30588235],\n",
       "        [0.30196078, 0.31372549, 0.24313725],\n",
       "        [0.27843137, 0.28627451, 0.23921569]],\n",
       "\n",
       "       [[0.54901961, 0.60784314, 0.64313725],\n",
       "        [0.54509804, 0.57254902, 0.58431373],\n",
       "        [0.45098039, 0.45098039, 0.43921569],\n",
       "        ...,\n",
       "        [0.30980392, 0.32156863, 0.25098039],\n",
       "        [0.26666667, 0.2745098 , 0.21568627],\n",
       "        [0.2627451 , 0.27058824, 0.21568627]],\n",
       "\n",
       "       ...,\n",
       "\n",
       "       [[0.68627451, 0.65490196, 0.65098039],\n",
       "        [0.61176471, 0.60392157, 0.62745098],\n",
       "        [0.60392157, 0.62745098, 0.66666667],\n",
       "        ...,\n",
       "        [0.16470588, 0.13333333, 0.14117647],\n",
       "        [0.23921569, 0.20784314, 0.22352941],\n",
       "        [0.36470588, 0.3254902 , 0.35686275]],\n",
       "\n",
       "       [[0.64705882, 0.60392157, 0.50196078],\n",
       "        [0.61176471, 0.59607843, 0.50980392],\n",
       "        [0.62352941, 0.63137255, 0.55686275],\n",
       "        ...,\n",
       "        [0.40392157, 0.36470588, 0.37647059],\n",
       "        [0.48235294, 0.44705882, 0.47058824],\n",
       "        [0.51372549, 0.4745098 , 0.51372549]],\n",
       "\n",
       "       [[0.63921569, 0.58039216, 0.47058824],\n",
       "        [0.61960784, 0.58039216, 0.47843137],\n",
       "        [0.63921569, 0.61176471, 0.52156863],\n",
       "        ...,\n",
       "        [0.56078431, 0.52156863, 0.54509804],\n",
       "        [0.56078431, 0.5254902 , 0.55686275],\n",
       "        [0.56078431, 0.52156863, 0.56470588]]])"
      ]
     },
     "execution_count": 6,
     "metadata": {},
     "output_type": "execute_result"
    }
   ],
   "source": [
    "trainX[1,:]"
   ]
  },
  {
   "cell_type": "code",
   "execution_count": 7,
   "metadata": {},
   "outputs": [
    {
     "data": {
      "text/plain": [
       "'airplane'"
      ]
     },
     "execution_count": 7,
     "metadata": {},
     "output_type": "execute_result"
    }
   ],
   "source": [
    "classes = [\"airplane\",\"automobile\",\"bird\",\"cat\",\"deer\",\"dog\",\"frog\",\"horse\",\"ship\",\"truck\"]\n",
    "classes[0]"
   ]
  },
  {
   "cell_type": "code",
   "execution_count": 8,
   "metadata": {},
   "outputs": [
    {
     "data": {
      "image/png": "[encoded data removed]",
      "text/plain": [
       "<Figure size 432x288 with 1 Axes>"
      ]
     },
     "metadata": {
      "needs_background": "light"
     },
     "output_type": "display_data"
    }
   ],
   "source": [
    "import random\n",
    "idx = random.randint(0, len(trainX))\n",
    "plt.imshow(trainX[idx,:])\n",
    "plt.show()"
   ]
  },
  {
   "cell_type": "markdown",
   "metadata": {},
   "source": [
    "## Applying CNN Model"
   ]
  },
  {
   "cell_type": "code",
   "execution_count": 21,
   "metadata": {},
   "outputs": [],
   "source": [
    "model = Sequential([\n",
    "    Conv2D(32,(3,3), activation = 'relu', input_shape = (32,32,3)),\n",
    "    MaxPooling2D((2,2)),\n",
    "\n",
    "    Conv2D(32,(3,3), activation = 'relu'),\n",
    "    MaxPooling2D((2,2)),\n",
    "\n",
    "    Flatten(),\n",
    "    Dense(64, activation = 'relu'),\n",
    "    Dense(1, activation = 'softmax')\n",
    "    ])"
   ]
  },
  {
   "cell_type": "code",
   "execution_count": 24,
   "metadata": {},
   "outputs": [],
   "source": [
    "model.compile(loss= 'categorical_crossentropy', optimizer= 'adam', metrics= ['accuracy'])"
   ]
  },
  {
   "cell_type": "code",
   "execution_count": 26,
   "metadata": {},
   "outputs": [
    {
     "name": "stdout",
     "output_type": "stream",
     "text": [
      "Epoch 1/5\n",
      "98/98 [==============================] - 70s 716ms/step - loss: 0.0000e+00 - accuracy: 0.1000 - val_loss: 0.0000e+00 - val_accuracy: 0.1000\n",
      "Epoch 2/5\n",
      "98/98 [==============================] - 42s 430ms/step - loss: 0.0000e+00 - accuracy: 0.1000 - val_loss: 0.0000e+00 - val_accuracy: 0.1000\n",
      "Epoch 3/5\n",
      "98/98 [==============================] - 41s 415ms/step - loss: 0.0000e+00 - accuracy: 0.1000 - val_loss: 0.0000e+00 - val_accuracy: 0.1000\n",
      "Epoch 4/5\n",
      "98/98 [==============================] - 42s 425ms/step - loss: 0.0000e+00 - accuracy: 0.1000 - val_loss: 0.0000e+00 - val_accuracy: 0.1000\n",
      "Epoch 5/5\n",
      "98/98 [==============================] - 43s 443ms/step - loss: 0.0000e+00 - accuracy: 0.1000 - val_loss: 0.0000e+00 - val_accuracy: 0.1000\n"
     ]
    },
    {
     "data": {
      "text/plain": [
       "<keras.callbacks.History at 0x2815075da90>"
      ]
     },
     "execution_count": 26,
     "metadata": {},
     "output_type": "execute_result"
    }
   ],
   "source": [
    "model.fit(trainX, trainy, epochs= 5, batch_size = 512,verbose = 1, validation_data=(testX,testy))"
   ]
  },
  {
   "cell_type": "code",
   "execution_count": 47,
   "metadata": {},
   "outputs": [
    {
     "name": "stdout",
     "output_type": "stream",
     "text": [
      "313/313 [==============================] - 4s 10ms/step - loss: -1335764975616.0000 - accuracy: 0.1000\n"
     ]
    },
    {
     "data": {
      "text/plain": [
       "[-1335764975616.0, 0.10000000149011612]"
      ]
     },
     "execution_count": 47,
     "metadata": {},
     "output_type": "execute_result"
    }
   ],
   "source": [
    "model.evaluate(testX, testy)"
   ]
  },
  {
   "cell_type": "markdown",
   "metadata": {},
   "source": [
    "### Checking Effect of Different Activation Functions"
   ]
  },
  {
   "cell_type": "code",
   "execution_count": 48,
   "metadata": {},
   "outputs": [
    {
     "name": "stdout",
     "output_type": "stream",
     "text": [
      "elu\n",
      "Epoch 1/15\n",
      "782/782 [==============================] - 77s 78ms/step - loss: -330666560.0000 - accuracy: 0.1001\n",
      "Epoch 2/15\n",
      "782/782 [==============================] - 58s 74ms/step - loss: -9336584192.0000 - accuracy: 0.1000\n",
      "Epoch 3/15\n",
      "782/782 [==============================] - 55s 70ms/step - loss: -53282385920.0000 - accuracy: 0.1000\n",
      "Epoch 4/15\n",
      "782/782 [==============================] - 53s 68ms/step - loss: -163864166400.0000 - accuracy: 0.1000\n",
      "Epoch 5/15\n",
      "782/782 [==============================] - 54s 70ms/step - loss: -371563331584.0000 - accuracy: 0.1000\n",
      "Epoch 6/15\n",
      "782/782 [==============================] - 56s 72ms/step - loss: -705444904960.0000 - accuracy: 0.1000\n",
      "Epoch 7/15\n",
      "782/782 [==============================] - 56s 71ms/step - loss: -1194347855872.0000 - accuracy: 0.1000\n",
      "Epoch 8/15\n",
      "782/782 [==============================] - 55s 70ms/step - loss: -1869837500416.0000 - accuracy: 0.1000\n",
      "Epoch 9/15\n",
      "782/782 [==============================] - 55s 71ms/step - loss: -2764470747136.0000 - accuracy: 0.1000\n",
      "Epoch 10/15\n",
      "782/782 [==============================] - 55s 70ms/step - loss: -3910882820096.0000 - accuracy: 0.1000\n",
      "Epoch 11/15\n",
      "782/782 [==============================] - 56s 71ms/step - loss: -5345822900224.0000 - accuracy: 0.1000\n",
      "Epoch 12/15\n",
      "782/782 [==============================] - 55s 71ms/step - loss: -7107602546688.0000 - accuracy: 0.1000\n",
      "Epoch 13/15\n",
      "782/782 [==============================] - 56s 71ms/step - loss: -9233040932864.0000 - accuracy: 0.1000\n",
      "Epoch 14/15\n",
      "782/782 [==============================] - 56s 71ms/step - loss: -11766506455040.0000 - accuracy: 0.1000\n",
      "Epoch 15/15\n",
      "782/782 [==============================] - 55s 71ms/step - loss: -14751281184768.0000 - accuracy: 0.1000\n",
      "313/313 [==============================] - 4s 12ms/step - loss: -16503624695808.0000 - accuracy: 0.1000\n"
     ]
    },
    {
     "data": {
      "text/plain": [
       "[-16503624695808.0, 0.10000000149011612]"
      ]
     },
     "execution_count": 48,
     "metadata": {},
     "output_type": "execute_result"
    }
   ],
   "source": [
    "Activation =['relu','selu','gelu','elu']\n",
    "\n",
    "for i in Activation:\n",
    "    model = Sequential([\n",
    "    Conv2D(32,(3,3), activation = i , input_shape = (32,32,3)),\n",
    "    MaxPooling2D((2,2)),\n",
    "\n",
    "    Conv2D(32,(3,3), activation = i),\n",
    "    MaxPooling2D((2,2)),\n",
    "\n",
    "    Flatten(),\n",
    "    Dense(64, activation = i),\n",
    "    Dense(1, activation = 'sigmoid')\n",
    "    ])\n",
    "\n",
    "model.compile(loss= 'binary_crossentropy', optimizer= 'adam', metrics= ['accuracy'])\n",
    "\n",
    "print(i)\n",
    "\n",
    "model.fit(trainX, trainy, epochs= 15, batch_size= 64)\n",
    "\n",
    "model.evaluate(testX, testy)\n",
    "\n",
    "    "
   ]
  },
  {
   "cell_type": "markdown",
   "metadata": {},
   "source": [
    "### Checking Effect of Different Optimizers"
   ]
  },
  {
   "cell_type": "code",
   "execution_count": 54,
   "metadata": {},
   "outputs": [
    {
     "name": "stdout",
     "output_type": "stream",
     "text": [
      "Adamax\n",
      "Epoch 1/15\n",
      "782/782 [==============================] - 93s 74ms/step - loss: -16475368.0000 - accuracy: 0.1000\n",
      "Epoch 2/15\n",
      "782/782 [==============================] - 54s 69ms/step - loss: -522823392.0000 - accuracy: 0.1000\n",
      "Epoch 3/15\n",
      "782/782 [==============================] - 55s 70ms/step - loss: -3534407168.0000 - accuracy: 0.1000\n",
      "Epoch 4/15\n",
      "782/782 [==============================] - 54s 69ms/step - loss: -12988015616.0000 - accuracy: 0.1000\n",
      "Epoch 5/15\n",
      "782/782 [==============================] - 50s 64ms/step - loss: -34993377280.0000 - accuracy: 0.1000\n",
      "Epoch 6/15\n",
      "782/782 [==============================] - 51s 65ms/step - loss: -77760421888.0000 - accuracy: 0.1000\n",
      "Epoch 7/15\n",
      "782/782 [==============================] - 51s 65ms/step - loss: -151211409408.0000 - accuracy: 0.1000\n",
      "Epoch 8/15\n",
      "782/782 [==============================] - 50s 64ms/step - loss: -265832464384.0000 - accuracy: 0.1000\n",
      "Epoch 9/15\n",
      "782/782 [==============================] - 49s 63ms/step - loss: -437247377408.0000 - accuracy: 0.1000\n",
      "Epoch 10/15\n",
      "782/782 [==============================] - 50s 64ms/step - loss: -677894160384.0000 - accuracy: 0.1000\n",
      "Epoch 11/15\n",
      "782/782 [==============================] - 50s 64ms/step - loss: -1011448020992.0000 - accuracy: 0.1000\n",
      "Epoch 12/15\n",
      "782/782 [==============================] - 50s 64ms/step - loss: -1454020755456.0000 - accuracy: 0.1000\n",
      "Epoch 13/15\n",
      "782/782 [==============================] - 50s 64ms/step - loss: -2031777742848.0000 - accuracy: 0.1000\n",
      "Epoch 14/15\n",
      "782/782 [==============================] - 50s 64ms/step - loss: -2769819533312.0000 - accuracy: 0.1000\n",
      "Epoch 15/15\n",
      "782/782 [==============================] - 50s 64ms/step - loss: -3679478874112.0000 - accuracy: 0.1000\n",
      "313/313 [==============================] - 5s 13ms/step - loss: -4226310995968.0000 - accuracy: 0.1000\n",
      "[-4226310995968.0, 0.10000000149011612]\n"
     ]
    }
   ],
   "source": [
    "optimizers =['adam','RMSprop','Adagrad','Adamax']\n",
    "\n",
    "\n",
    "model = Sequential([\n",
    "Conv2D(32,(3,3), activation = 'relu' , input_shape = (32,32,3)),\n",
    "MaxPooling2D((2,2)),\n",
    "\n",
    "Conv2D(32,(3,3), activation = 'relu'),\n",
    "MaxPooling2D((2,2)),\n",
    "\n",
    "Flatten(),\n",
    "Dense(64, activation = 'relu'),\n",
    "Dense(1, activation = 'sigmoid')\n",
    "])\n",
    "for i in optimizers:\n",
    "    model.compile(loss= 'binary_crossentropy', optimizer= i, metrics= ['accuracy'])\n",
    "\n",
    "print(i)\n",
    "\n",
    "model.fit(trainX, trainy, epochs= 15, batch_size= 64)\n",
    "\n",
    "print(model.evaluate(testX, testy))"
   ]
  },
  {
   "cell_type": "markdown",
   "metadata": {},
   "source": [
    "### Applying Average Pooling"
   ]
  },
  {
   "cell_type": "code",
   "execution_count": 28,
   "metadata": {},
   "outputs": [],
   "source": [
    "model = Sequential([\n",
    "    Conv2D(32,(3,3), activation = 'relu', input_shape = (32,32,3)),\n",
    "    AveragePooling2D(pool_size=2),\n",
    "\n",
    "    Conv2D(32,(3,3), activation = 'relu'),\n",
    "    AveragePooling2D(pool_size=2),\n",
    "\n",
    "    Flatten(),\n",
    "    Dense(64, activation = 'relu'),\n",
    "    Dense(1, activation = 'softmax')\n",
    "    ])"
   ]
  },
  {
   "cell_type": "code",
   "execution_count": 29,
   "metadata": {},
   "outputs": [],
   "source": [
    "model.compile(loss= 'categorical_crossentropy', optimizer= 'adam', metrics= ['accuracy'])"
   ]
  },
  {
   "cell_type": "code",
   "execution_count": 30,
   "metadata": {},
   "outputs": [
    {
     "name": "stdout",
     "output_type": "stream",
     "text": [
      "Epoch 1/5\n",
      "98/98 [==============================] - 47s 445ms/step - loss: 0.0000e+00 - accuracy: 0.1000 - val_loss: 0.0000e+00 - val_accuracy: 0.1000\n",
      "Epoch 2/5\n",
      "98/98 [==============================] - 34s 351ms/step - loss: 0.0000e+00 - accuracy: 0.1000 - val_loss: 0.0000e+00 - val_accuracy: 0.1000\n",
      "Epoch 3/5\n",
      "98/98 [==============================] - 35s 354ms/step - loss: 0.0000e+00 - accuracy: 0.1000 - val_loss: 0.0000e+00 - val_accuracy: 0.1000\n",
      "Epoch 4/5\n",
      "98/98 [==============================] - 34s 344ms/step - loss: 0.0000e+00 - accuracy: 0.1000 - val_loss: 0.0000e+00 - val_accuracy: 0.1000\n",
      "Epoch 5/5\n",
      "98/98 [==============================] - 31s 321ms/step - loss: 0.0000e+00 - accuracy: 0.1000 - val_loss: 0.0000e+00 - val_accuracy: 0.1000\n"
     ]
    },
    {
     "data": {
      "text/plain": [
       "<keras.callbacks.History at 0x28150792820>"
      ]
     },
     "execution_count": 30,
     "metadata": {},
     "output_type": "execute_result"
    }
   ],
   "source": [
    "model.fit(trainX, trainy, epochs= 5, batch_size = 512,verbose = 1, validation_data=(testX,testy))"
   ]
  },
  {
   "cell_type": "code",
   "execution_count": 31,
   "metadata": {},
   "outputs": [
    {
     "name": "stdout",
     "output_type": "stream",
     "text": [
      "elu\n",
      "Epoch 1/15\n",
      "782/782 [==============================] - 51s 61ms/step - loss: -227576480.0000 - accuracy: 0.1000\n",
      "Epoch 2/15\n",
      "782/782 [==============================] - 43s 56ms/step - loss: -6343036416.0000 - accuracy: 0.1000\n",
      "Epoch 3/15\n",
      "782/782 [==============================] - 39s 50ms/step - loss: -36191838208.0000 - accuracy: 0.1000\n",
      "Epoch 4/15\n",
      "782/782 [==============================] - 39s 50ms/step - loss: -111443279872.0000 - accuracy: 0.1000\n",
      "Epoch 5/15\n",
      "782/782 [==============================] - 40s 51ms/step - loss: -252541730816.0000 - accuracy: 0.1000\n",
      "Epoch 6/15\n",
      "782/782 [==============================] - 39s 50ms/step - loss: -479173738496.0000 - accuracy: 0.1000\n",
      "Epoch 7/15\n",
      "782/782 [==============================] - 39s 50ms/step - loss: -811372511232.0000 - accuracy: 0.1000\n",
      "Epoch 8/15\n",
      "782/782 [==============================] - 41s 53ms/step - loss: -1269787787264.0000 - accuracy: 0.1000\n",
      "Epoch 9/15\n",
      "782/782 [==============================] - 46s 59ms/step - loss: -1877358149632.0000 - accuracy: 0.1000\n",
      "Epoch 10/15\n",
      "782/782 [==============================] - 48s 61ms/step - loss: -2656597966848.0000 - accuracy: 0.1000\n",
      "Epoch 11/15\n",
      "782/782 [==============================] - 66s 84ms/step - loss: -3630763343872.0000 - accuracy: 0.1000\n",
      "Epoch 12/15\n",
      "782/782 [==============================] - 67s 85ms/step - loss: -4825375309824.0000 - accuracy: 0.1000\n",
      "Epoch 13/15\n",
      "782/782 [==============================] - 63s 80ms/step - loss: -6270962630656.0000 - accuracy: 0.1000\n",
      "Epoch 14/15\n",
      "782/782 [==============================] - 43s 55ms/step - loss: -7991995662336.0000 - accuracy: 0.1000\n",
      "Epoch 15/15\n",
      "782/782 [==============================] - 40s 51ms/step - loss: -10017190182912.0000 - accuracy: 0.1000\n",
      "313/313 [==============================] - 5s 12ms/step - loss: -11213701382144.0000 - accuracy: 0.1000\n"
     ]
    },
    {
     "data": {
      "text/plain": [
       "[-11213701382144.0, 0.10000000149011612]"
      ]
     },
     "execution_count": 31,
     "metadata": {},
     "output_type": "execute_result"
    }
   ],
   "source": [
    "Activation =['relu','selu','gelu','elu']\n",
    "\n",
    "for i in Activation:\n",
    "    model = Sequential([\n",
    "    Conv2D(32,(3,3), activation = i , input_shape = (32,32,3)),\n",
    "    AveragePooling2D(pool_size=2),\n",
    "\n",
    "    Conv2D(32,(3,3), activation = i),\n",
    "    AveragePooling2D(pool_size=2),\n",
    "\n",
    "    Flatten(),\n",
    "    Dense(64, activation = i),\n",
    "    Dense(1, activation = 'sigmoid')\n",
    "    ])\n",
    "\n",
    "model.compile(loss= 'binary_crossentropy', optimizer= 'adam', metrics= ['accuracy'])\n",
    "\n",
    "print(i)\n",
    "\n",
    "model.fit(trainX, trainy, epochs= 15, batch_size= 64)\n",
    "\n",
    "model.evaluate(testX, testy)\n",
    "\n",
    "    "
   ]
  },
  {
   "cell_type": "markdown",
   "metadata": {},
   "source": [
    "## Appplying AlexNet Architecture"
   ]
  },
  {
   "cell_type": "code",
   "execution_count": 28,
   "metadata": {},
   "outputs": [
    {
     "name": "stdout",
     "output_type": "stream",
     "text": [
      "1563/1563 [==============================] - 2741s 2s/step - loss: 0.0000e+00 - accuracy: 0.1000\n"
     ]
    },
    {
     "ename": "KeyError",
     "evalue": "'val_accuracy'",
     "output_type": "error",
     "traceback": [
      "\u001b[1;31m---------------------------------------------------------------------------\u001b[0m",
      "\u001b[1;31mKeyError\u001b[0m                                  Traceback (most recent call last)",
      "\u001b[1;32mc:\\Users\\Muzammil\\Desktop\\DL1_Assihnment3.ipynb Cell 23\u001b[0m in \u001b[0;36m<cell line: 43>\u001b[1;34m()\u001b[0m\n\u001b[0;32m     <a href='vscode-notebook-cell:/c%3A/Users/Muzammil/Desktop/DL1_Assihnment3.ipynb#X33sZmlsZQ%3D%3D?line=40'>41</a>\u001b[0m plt\u001b[39m.\u001b[39msubplot(\u001b[39m121\u001b[39m)  \n\u001b[0;32m     <a href='vscode-notebook-cell:/c%3A/Users/Muzammil/Desktop/DL1_Assihnment3.ipynb#X33sZmlsZQ%3D%3D?line=41'>42</a>\u001b[0m plt\u001b[39m.\u001b[39mplot(model\u001b[39m.\u001b[39mhistory\u001b[39m.\u001b[39mhistory[\u001b[39m'\u001b[39m\u001b[39maccuracy\u001b[39m\u001b[39m'\u001b[39m])  \n\u001b[1;32m---> <a href='vscode-notebook-cell:/c%3A/Users/Muzammil/Desktop/DL1_Assihnment3.ipynb#X33sZmlsZQ%3D%3D?line=42'>43</a>\u001b[0m plt\u001b[39m.\u001b[39mplot(model\u001b[39m.\u001b[39;49mhistory\u001b[39m.\u001b[39;49mhistory[\u001b[39m'\u001b[39;49m\u001b[39mval_accuracy\u001b[39;49m\u001b[39m'\u001b[39;49m])  \n\u001b[0;32m     <a href='vscode-notebook-cell:/c%3A/Users/Muzammil/Desktop/DL1_Assihnment3.ipynb#X33sZmlsZQ%3D%3D?line=43'>44</a>\u001b[0m plt\u001b[39m.\u001b[39mtitle(\u001b[39m'\u001b[39m\u001b[39mmodel accuracy\u001b[39m\u001b[39m'\u001b[39m)  \n\u001b[0;32m     <a href='vscode-notebook-cell:/c%3A/Users/Muzammil/Desktop/DL1_Assihnment3.ipynb#X33sZmlsZQ%3D%3D?line=44'>45</a>\u001b[0m plt\u001b[39m.\u001b[39mylabel(\u001b[39m'\u001b[39m\u001b[39maccuracy\u001b[39m\u001b[39m'\u001b[39m)  \n",
      "\u001b[1;31mKeyError\u001b[0m: 'val_accuracy'"
     ]
    },
    {
     "data": {
      "image/png": "[encoded data removed]",
      "text/plain": [
       "<Figure size 720x360 with 1 Axes>"
      ]
     },
     "metadata": {
      "needs_background": "light"
     },
     "output_type": "display_data"
    }
   ],
   "source": [
    "model = Sequential()\n",
    "    \n",
    "\n",
    "model.add(Conv2D(filters=96, kernel_size=(11,11),input_shape = (32, 32, 3), activation = 'relu'))                 \n",
    "model.add(BatchNormalization())\n",
    "model.add(MaxPooling2D(2,2))\n",
    "\n",
    "model.add(Conv2D(filters=256, kernel_size = (5,5), strides = (1,1), activation = 'relu', padding = 'same'))\n",
    "model.add(BatchNormalization())\n",
    "model.add(MaxPooling2D(2,2))\n",
    "\n",
    "model.add(Conv2D(filters=384, kernel_size = (3,3), strides = (1,1), activation = 'relu', padding = 'same'))\n",
    "model.add(BatchNormalization())\n",
    "\n",
    "model.add(Conv2D(filters=384, kernel_size = (3,3), strides = (1,1), activation = 'relu', padding = 'same'))\n",
    "model.add(BatchNormalization())\n",
    "\n",
    "model.add(Conv2D(filters=256, kernel_size = (3,3), strides = (1,1), activation = 'relu', padding = 'same'))\n",
    "model.add(BatchNormalization())\n",
    "model.add(MaxPooling2D(2,2))\n",
    "\n",
    "model.add(Flatten())\n",
    "model.add(Dense(4064, activation = 'relu'))\n",
    "#model.add(Dense(4096))\n",
    "#model.add(Activation('relu'))\n",
    "\n",
    "model.add(Dropout(0.5))\n",
    "model.add(Dense(4096, activation = 'relu'))\n",
    "#model.add(Activation('relu'))\n",
    "\n",
    "model.add(Dropout(0.5))\n",
    "model.add(Dense(1, activation = 'softmax'))\n",
    "\n",
    "    \n",
    "model.compile(optimizer='adam', loss='categorical_crossentropy', metrics=['accuracy'])\n",
    "model.fit(trainX, trainy, epochs =1, verbose =1)\n",
    "    "
   ]
  },
  {
   "cell_type": "code",
   "execution_count": 29,
   "metadata": {},
   "outputs": [
    {
     "name": "stdout",
     "output_type": "stream",
     "text": [
      "313/313 [==============================] - 51s 159ms/step - loss: 0.0000e+00 - accuracy: 0.1000\n",
      "[0.0, 0.10000000149011612]\n"
     ]
    }
   ],
   "source": [
    "print(model.evaluate(testX, testy))"
   ]
  },
  {
   "cell_type": "markdown",
   "metadata": {},
   "source": [
    "## VVG16 Architecture"
   ]
  },
  {
   "cell_type": "code",
   "execution_count": 31,
   "metadata": {},
   "outputs": [
    {
     "name": "stdout",
     "output_type": "stream",
     "text": [
      "1563/1563 [==============================] - 6815s 4s/step - loss: nan - accuracy: 0.1000\n"
     ]
    },
    {
     "data": {
      "text/plain": [
       "<keras.callbacks.History at 0x1f9770e2f40>"
      ]
     },
     "execution_count": 31,
     "metadata": {},
     "output_type": "execute_result"
    }
   ],
   "source": [
    "input = tf.keras.Input(shape =(32,32,3))\n",
    "\n",
    "x = Conv2D (filters =64, kernel_size =3, padding ='same', activation='relu')(input)\n",
    "x = Conv2D (filters =64, kernel_size =3, padding ='same', activation='relu')(x)\n",
    "x = MaxPooling2D(pool_size =2, strides =2, padding ='same')(x)\n",
    "    # 2nd Conv Block\n",
    "\n",
    "x = Conv2D (filters =128, kernel_size =3, padding ='same', activation='relu')(x)\n",
    "x = Conv2D (filters =128, kernel_size =3, padding ='same', activation='relu')(x)\n",
    "x = MaxPooling2D(pool_size =2, strides =2, padding ='same')(x)\n",
    "    # 3rd Conv block\n",
    "\n",
    "x = Conv2D (filters =256, kernel_size =3, padding ='same', activation='relu')(x)\n",
    "x = Conv2D (filters =256, kernel_size =3, padding ='same', activation='relu')(x)\n",
    "x = Conv2D (filters =256, kernel_size =3, padding ='same', activation='relu')(x)\n",
    "x = MaxPooling2D(pool_size =2, strides =2, padding ='same')(x)\n",
    "    # 4th Conv block\n",
    "\n",
    "x = Conv2D (filters =512, kernel_size =3, padding ='same', activation='relu')(x)\n",
    "x = Conv2D (filters =512, kernel_size =3, padding ='same', activation='relu')(x)\n",
    "x = Conv2D (filters =512, kernel_size =3, padding ='same', activation='relu')(x)\n",
    "x = MaxPooling2D(pool_size =2, strides =2, padding ='same')(x)\n",
    "\n",
    "    # 5th Conv block\n",
    "\n",
    "x = Conv2D (filters =512, kernel_size =3, padding ='same', activation='relu')(x)\n",
    "x = Conv2D (filters =512, kernel_size =3, padding ='same', activation='relu')(x)\n",
    "x = Conv2D (filters =512, kernel_size =3, padding ='same', activation='relu')(x)\n",
    "x = MaxPooling2D(pool_size =2, strides =2, padding ='same')(x)\n",
    "    # Fully connected layers\n",
    "\n",
    "x = Flatten()(x)\n",
    "x = Dense(units = 4096, activation ='relu')(x)\n",
    "x = Dense(units = 4096, activation ='relu')(x)\n",
    "output = Dense(1, activation ='softmax')(x)\n",
    "    # creating the model\n",
    "\n",
    "model =tf.keras.Model (inputs=input, outputs =output)\n",
    "\n",
    "model.compile(optimizer='adam', loss='categorical_crossentropy', metrics=['accuracy'])\n",
    "model.fit(trainX, trainy, epochs =1, verbose =1)"
   ]
  },
  {
   "cell_type": "code",
   "execution_count": 32,
   "metadata": {},
   "outputs": [
    {
     "name": "stdout",
     "output_type": "stream",
     "text": [
      "313/313 [==============================] - 90s 284ms/step - loss: nan - accuracy: 0.1000\n",
      "[nan, 0.10000000149011612]\n"
     ]
    }
   ],
   "source": [
    "print(model.evaluate(testX, testy))"
   ]
  }
 ],
 "metadata": {
  "kernelspec": {
   "display_name": "Python 3.9.7 64-bit",
   "language": "python",
   "name": "python3"
  },
  "language_info": {
   "codemirror_mode": {
    "name": "ipython",
    "version": 3
   },
   "file_extension": ".py",
   "mimetype": "text/x-python",
   "name": "python",
   "nbconvert_exporter": "python",
   "pygments_lexer": "ipython3",
   "version": "3.9.7"
  },
  "orig_nbformat": 4,
  "vscode": {
   "interpreter": {
    "hash": "95f57ecaf1e4684a97728584cbdcdcfb0a14de4fde6afb1e55592db96a99a5c0"
   }
  }
 },
 "nbformat": 4,
 "nbformat_minor": 2
}
